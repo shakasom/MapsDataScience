{
  "nbformat": 4,
  "nbformat_minor": 0,
  "metadata": {
    "colab": {
      "name": "Chapter7 - Getting Location Recommender Systems.ipynb - f.ipynb",
      "version": "0.3.2",
      "provenance": [],
      "collapsed_sections": [
        "J_y3LEmAbcy3",
        "u-uVpImsbzpj",
        "xLHxz-_MVT1n"
      ],
      "include_colab_link": true
    },
    "kernelspec": {
      "name": "python3",
      "display_name": "Python 3"
    }
  },
  "cells": [
    {
      "cell_type": "markdown",
      "metadata": {
        "id": "view-in-github",
        "colab_type": "text"
      },
      "source": [
        "<a href=\"https://colab.research.google.com/github/shakasom/MapsDataScience/blob/master/Chapter7.ipynb\" target=\"_parent\"><img src=\"https://colab.research.google.com/assets/colab-badge.svg\" alt=\"Open In Colab\"/></a>"
      ]
    },
    {
      "cell_type": "markdown",
      "metadata": {
        "id": "lFIbNZadCoUS",
        "colab_type": "text"
      },
      "source": [
        "# Chapter7 - Getting Location Recommender Systems"
      ]
    },
    {
      "cell_type": "markdown",
      "metadata": {
        "id": "lCfPHnDRCyI-",
        "colab_type": "text"
      },
      "source": [
        "## Installations\n",
        "\n",
        "The geospatial libraries are not pre installed in google colab as standard python library, therefore we need to install some libraries to use. Luckily this is an easy process. You can use either apt install or pip install. You can also create anaconda environment, but that is a bit complex so pip and apt are enough in our case to get the libraries we need. These are the libraries we need to install in this tutorial:\n",
        "\n",
        "Gdal\n",
        "Geopandas\n",
        "Folium\n",
        "\n",
        "The installation might take 1 minute."
      ]
    },
    {
      "cell_type": "code",
      "metadata": {
        "id": "C-b8NKMhC1OJ",
        "colab_type": "code",
        "colab": {}
      },
      "source": [
        "%%time \n",
        "#!apt update\n",
        "#!apt upgrade\n",
        "\n",
        "# GDAL\n",
        "!apt install gdal-bin python-gdal python3-gdal \n",
        "# Install rtree - Geopandas requirment\n",
        "!apt install python3-rtree \n",
        "# Install Geopandas\n",
        "!pip install git+git://github.com/geopandas/geopandas.git\n",
        "# Install descartes - Geopandas requirment\n",
        "!pip install descartes \n",
        "# Install Folium for Geographic data visualization\n",
        "!pip install folium \n",
        "# Install Scikit-learn Recommender library Surprise\n",
        "!pip install scikit-surprise"
      ],
      "execution_count": 0,
      "outputs": []
    },
    {
      "cell_type": "code",
      "metadata": {
        "id": "pho9P-MgDExj",
        "colab_type": "code",
        "colab": {}
      },
      "source": [
        "import pandas as pd\n",
        "import numpy as np\n",
        "import random\n",
        "\n",
        "import geopandas as gpd\n",
        "\n",
        "\n",
        "import matplotlib.pyplot as plt\n",
        "import seaborn as sns\n",
        "import folium\n",
        "\n",
        "from surprise import Reader\n",
        "from surprise import Dataset\n",
        "from surprise import dump\n",
        "\n",
        "from surprise import BaselineOnly, SVD, SVDpp,  KNNWithMeans,KNNWithZScore, CoClustering, NMF\n",
        "\n",
        "from surprise.model_selection import cross_validate\n",
        "from surprise.model_selection import KFold\n",
        "from surprise.model_selection import train_test_split\n",
        "from surprise.accuracy import rmse\n",
        "from surprise import accuracy\n",
        "\n",
        "from sklearn.cluster import KMeans\n",
        "from sklearn.metrics import silhouette_score"
      ],
      "execution_count": 0,
      "outputs": []
    },
    {
      "cell_type": "markdown",
      "metadata": {
        "id": "ufpkjGUkFBGr",
        "colab_type": "text"
      },
      "source": [
        "## Exploratory Data Analysis (EDA"
      ]
    },
    {
      "cell_type": "code",
      "metadata": {
        "id": "Nlo4TAg6FJHp",
        "colab_type": "code",
        "colab": {
          "base_uri": "https://localhost:8080/",
          "height": 505
        },
        "outputId": "768c5c86-fa55-4ccb-e1fe-d6682211d381"
      },
      "source": [
        "# Get the data and unzip it\n",
        "!wget https://www.dropbox.com/s/lust8m4h5qycjsd/RCdata.zip\n",
        "!unzip RCdata.zip"
      ],
      "execution_count": 3,
      "outputs": [
        {
          "output_type": "stream",
          "text": [
            "--2019-05-15 10:37:35--  https://www.dropbox.com/s/lust8m4h5qycjsd/RCdata.zip\n",
            "Resolving www.dropbox.com (www.dropbox.com)... 162.125.1.1, 2620:100:6016:1::a27d:101\n",
            "Connecting to www.dropbox.com (www.dropbox.com)|162.125.1.1|:443... connected.\n",
            "HTTP request sent, awaiting response... 301 Moved Permanently\n",
            "Location: /s/raw/lust8m4h5qycjsd/RCdata.zip [following]\n",
            "--2019-05-15 10:37:35--  https://www.dropbox.com/s/raw/lust8m4h5qycjsd/RCdata.zip\n",
            "Reusing existing connection to www.dropbox.com:443.\n",
            "HTTP request sent, awaiting response... 302 Found\n",
            "Location: https://uc276a8dd987985873354260bcd8.dl.dropboxusercontent.com/cd/0/inline/Ag4LDbb5aMhbj6revpdbGg72PNzJ5iGjWiQP2uxN9G68OU4miaydVKTbjxwOKEGQm_4HevNyIdfTnbxz86qPVb_cEekes7e9Fo8hqC89CV-42A/file# [following]\n",
            "--2019-05-15 10:37:35--  https://uc276a8dd987985873354260bcd8.dl.dropboxusercontent.com/cd/0/inline/Ag4LDbb5aMhbj6revpdbGg72PNzJ5iGjWiQP2uxN9G68OU4miaydVKTbjxwOKEGQm_4HevNyIdfTnbxz86qPVb_cEekes7e9Fo8hqC89CV-42A/file\n",
            "Resolving uc276a8dd987985873354260bcd8.dl.dropboxusercontent.com (uc276a8dd987985873354260bcd8.dl.dropboxusercontent.com)... 162.125.1.6, 2620:100:6016:6::a27d:106\n",
            "Connecting to uc276a8dd987985873354260bcd8.dl.dropboxusercontent.com (uc276a8dd987985873354260bcd8.dl.dropboxusercontent.com)|162.125.1.6|:443... connected.\n",
            "HTTP request sent, awaiting response... 302 FOUND\n",
            "Location: /cd/0/inline2/Ag4QcheuCR-yN7JeHn7TKixlbo3AJjNoip3bDtkJ2ST3Bh0bVWJKzCWkx53DWay-B5zONda5VwLr_YJHFvf9uP7NYNcnKFpBdgzbupRv4CIHpwPu5mGEVEeyjh8ZuhXBLdLzOxBDVstBLeAXwOPKLHGjW-lkOEqIOHCPgieQwsEa6qnew9_UyBayd4NFCJYdCXFOd1iqXuCJX3Vzi_H5Z-C5vrFf3xy1_Wldzf1MM22CCekWga8JZuI1pnTB3BLT2O6IQMdFfxLloIKLURbwxE5u78X5aT4tP4Sz5KK0AcU-TISNcv_tqNXnedbhBea4zv2Q0zkOn8UxCi6N1SaOkenK/file [following]\n",
            "--2019-05-15 10:37:35--  https://uc276a8dd987985873354260bcd8.dl.dropboxusercontent.com/cd/0/inline2/Ag4QcheuCR-yN7JeHn7TKixlbo3AJjNoip3bDtkJ2ST3Bh0bVWJKzCWkx53DWay-B5zONda5VwLr_YJHFvf9uP7NYNcnKFpBdgzbupRv4CIHpwPu5mGEVEeyjh8ZuhXBLdLzOxBDVstBLeAXwOPKLHGjW-lkOEqIOHCPgieQwsEa6qnew9_UyBayd4NFCJYdCXFOd1iqXuCJX3Vzi_H5Z-C5vrFf3xy1_Wldzf1MM22CCekWga8JZuI1pnTB3BLT2O6IQMdFfxLloIKLURbwxE5u78X5aT4tP4Sz5KK0AcU-TISNcv_tqNXnedbhBea4zv2Q0zkOn8UxCi6N1SaOkenK/file\n",
            "Reusing existing connection to uc276a8dd987985873354260bcd8.dl.dropboxusercontent.com:443.\n",
            "HTTP request sent, awaiting response... 200 OK\n",
            "Length: 15681 (15K) [application/zip]\n",
            "Saving to: ‘RCdata.zip.1’\n",
            "\n",
            "\rRCdata.zip.1          0%[                    ]       0  --.-KB/s               \rRCdata.zip.1        100%[===================>]  15.31K  --.-KB/s    in 0s      \n",
            "\n",
            "2019-05-15 10:37:35 (192 MB/s) - ‘RCdata.zip.1’ saved [15681/15681]\n",
            "\n",
            "Archive:  RCdata.zip\n",
            "replace RCdata/geoplaces.geojson? [y]es, [n]o, [A]ll, [N]one, [r]ename: n\n",
            "replace RCdata/rating_final.csv? [y]es, [n]o, [A]ll, [N]one, [r]ename: N\n"
          ],
          "name": "stdout"
        }
      ]
    },
    {
      "cell_type": "markdown",
      "metadata": {
        "id": "QjtAn_QkFPZP",
        "colab_type": "text"
      },
      "source": [
        "### Rating"
      ]
    },
    {
      "cell_type": "code",
      "metadata": {
        "id": "7DPVdu_8FTCC",
        "colab_type": "code",
        "outputId": "f98a94aa-8e05-43da-81d6-869dde5c0939",
        "colab": {
          "base_uri": "https://localhost:8080/",
          "height": 202
        }
      },
      "source": [
        "ratings = pd.read_csv('RCdata/rating_final.csv')\n",
        "ratings.head()"
      ],
      "execution_count": 4,
      "outputs": [
        {
          "output_type": "execute_result",
          "data": {
            "text/html": [
              "<div>\n",
              "<style scoped>\n",
              "    .dataframe tbody tr th:only-of-type {\n",
              "        vertical-align: middle;\n",
              "    }\n",
              "\n",
              "    .dataframe tbody tr th {\n",
              "        vertical-align: top;\n",
              "    }\n",
              "\n",
              "    .dataframe thead th {\n",
              "        text-align: right;\n",
              "    }\n",
              "</style>\n",
              "<table border=\"1\" class=\"dataframe\">\n",
              "  <thead>\n",
              "    <tr style=\"text-align: right;\">\n",
              "      <th></th>\n",
              "      <th>userID</th>\n",
              "      <th>placeID</th>\n",
              "      <th>rating</th>\n",
              "      <th>food_rating</th>\n",
              "      <th>service_rating</th>\n",
              "    </tr>\n",
              "  </thead>\n",
              "  <tbody>\n",
              "    <tr>\n",
              "      <th>0</th>\n",
              "      <td>U1077</td>\n",
              "      <td>135085</td>\n",
              "      <td>2</td>\n",
              "      <td>2</td>\n",
              "      <td>2</td>\n",
              "    </tr>\n",
              "    <tr>\n",
              "      <th>1</th>\n",
              "      <td>U1077</td>\n",
              "      <td>135038</td>\n",
              "      <td>2</td>\n",
              "      <td>2</td>\n",
              "      <td>1</td>\n",
              "    </tr>\n",
              "    <tr>\n",
              "      <th>2</th>\n",
              "      <td>U1077</td>\n",
              "      <td>132825</td>\n",
              "      <td>2</td>\n",
              "      <td>2</td>\n",
              "      <td>2</td>\n",
              "    </tr>\n",
              "    <tr>\n",
              "      <th>3</th>\n",
              "      <td>U1077</td>\n",
              "      <td>135060</td>\n",
              "      <td>1</td>\n",
              "      <td>2</td>\n",
              "      <td>2</td>\n",
              "    </tr>\n",
              "    <tr>\n",
              "      <th>4</th>\n",
              "      <td>U1068</td>\n",
              "      <td>135104</td>\n",
              "      <td>1</td>\n",
              "      <td>1</td>\n",
              "      <td>2</td>\n",
              "    </tr>\n",
              "  </tbody>\n",
              "</table>\n",
              "</div>"
            ],
            "text/plain": [
              "  userID  placeID  rating  food_rating  service_rating\n",
              "0  U1077   135085       2            2               2\n",
              "1  U1077   135038       2            2               1\n",
              "2  U1077   132825       2            2               2\n",
              "3  U1077   135060       1            2               2\n",
              "4  U1068   135104       1            1               2"
            ]
          },
          "metadata": {
            "tags": []
          },
          "execution_count": 4
        }
      ]
    },
    {
      "cell_type": "code",
      "metadata": {
        "id": "i_sfQMVEFV2x",
        "colab_type": "code",
        "outputId": "ff6a7790-c5e7-4ea3-f47c-bcaa3aa22f88",
        "colab": {
          "base_uri": "https://localhost:8080/",
          "height": 34
        }
      },
      "source": [
        "ratings.shape"
      ],
      "execution_count": 5,
      "outputs": [
        {
          "output_type": "execute_result",
          "data": {
            "text/plain": [
              "(1161, 5)"
            ]
          },
          "metadata": {
            "tags": []
          },
          "execution_count": 5
        }
      ]
    },
    {
      "cell_type": "code",
      "metadata": {
        "id": "lIwITzcaFY6X",
        "colab_type": "code",
        "outputId": "71b839bd-6e9a-4172-cc12-00097e972b31",
        "colab": {
          "base_uri": "https://localhost:8080/",
          "height": 638
        }
      },
      "source": [
        "print(ratings['rating'].mean())\n",
        "fig, ax = plt.subplots(figsize=(12,10))\n",
        "sns.countplot(ratings['rating'], ax=ax, color='grey')\n",
        "plt.title('Rating Countplot')\n",
        "plt.savefig('ratingCountPlot.png')\n",
        "plt.show()"
      ],
      "execution_count": 6,
      "outputs": [
        {
          "output_type": "stream",
          "text": [
            "1.1998277347114557\n"
          ],
          "name": "stdout"
        },
        {
          "output_type": "display_data",
          "data": {
            "image/png": "[encoded data removed]",
            "text/plain": [
              "<Figure size 864x720 with 1 Axes>"
            ]
          },
          "metadata": {
            "tags": []
          }
        }
      ]
    },
    {
      "cell_type": "markdown",
      "metadata": {
        "id": "CK7qu08OFqeH",
        "colab_type": "text"
      },
      "source": [
        "Unique userID and placeID in the dataset. "
      ]
    },
    {
      "cell_type": "code",
      "metadata": {
        "id": "XmSJ-GlWFcww",
        "colab_type": "code",
        "outputId": "fb8646dc-ae50-4b02-fb5d-33c5995ab3e4",
        "colab": {
          "base_uri": "https://localhost:8080/",
          "height": 52
        }
      },
      "source": [
        "print(\"There are {} unique userID in the dataset\".format(ratings['userID'].nunique()))\n",
        "print(\"There are {} unique placeID in the dataset\".format(ratings['placeID'].nunique()))"
      ],
      "execution_count": 7,
      "outputs": [
        {
          "output_type": "stream",
          "text": [
            "There are 138 unique userID in the dataset\n",
            "There are 130 unique placeID in the dataset\n"
          ],
          "name": "stdout"
        }
      ]
    },
    {
      "cell_type": "markdown",
      "metadata": {
        "id": "gy6fvSi-F7oR",
        "colab_type": "text"
      },
      "source": [
        "The following are the 10 users with the highest number of ratings. The highest two users have 18 ratings."
      ]
    },
    {
      "cell_type": "code",
      "metadata": {
        "id": "zuoGWjCBF-RS",
        "colab_type": "code",
        "outputId": "7b922faf-615a-4731-de4a-1152bef51264",
        "colab": {
          "base_uri": "https://localhost:8080/",
          "height": 609
        }
      },
      "source": [
        "fig, ax = plt.subplots(figsize=(12,10))\n",
        "sns.countplot(x=\"userID\",data=ratings, color=\"grey\", order=ratings['userID'].value_counts().index[:10], ax=ax)\n",
        "plt.show()"
      ],
      "execution_count": 8,
      "outputs": [
        {
          "output_type": "display_data",
          "data": {
            "image/png": "[encoded data removed]",
            "text/plain": [
              "<Figure size 864x720 with 1 Axes>"
            ]
          },
          "metadata": {
            "tags": []
          }
        }
      ]
    },
    {
      "cell_type": "markdown",
      "metadata": {
        "id": "Mg0LNlcdGAMO",
        "colab_type": "text"
      },
      "source": [
        "The following are the 10 users with the highest number of ratings. The restaurant with the highest rating count has 36 ratings."
      ]
    },
    {
      "cell_type": "code",
      "metadata": {
        "id": "pqjBUYTdHgQs",
        "colab_type": "code",
        "outputId": "0d292872-51e6-4cd7-c2b8-5539c47da4a0",
        "colab": {
          "base_uri": "https://localhost:8080/",
          "height": 718
        }
      },
      "source": [
        "fig, ax = plt.subplots(figsize=(18,12))\n",
        "sns.countplot(x=\"placeID\",data=ratings, color=\"grey\", order=ratings['placeID'].value_counts().index[:10], ax=ax)\n",
        "plt.show()"
      ],
      "execution_count": 9,
      "outputs": [
        {
          "output_type": "display_data",
          "data": {
            "image/png": "[encoded data removed]",
            "text/plain": [
              "<Figure size 1296x864 with 1 Axes>"
            ]
          },
          "metadata": {
            "tags": []
          }
        }
      ]
    },
    {
      "cell_type": "markdown",
      "metadata": {
        "id": "2pVy80pdHh1N",
        "colab_type": "text"
      },
      "source": [
        "### Restaurants"
      ]
    },
    {
      "cell_type": "code",
      "metadata": {
        "id": "tIOxRRoXHydo",
        "colab_type": "code",
        "outputId": "96c02890-a77c-41cd-abd6-f71f66ae8231",
        "colab": {
          "base_uri": "https://localhost:8080/",
          "height": 724
        }
      },
      "source": [
        "# Read the data as GeoDataFrame\n",
        "geoplaces = gpd.read_file('RCdata/geoplaces.geojson')\n",
        "geoplaces.head(2).T\n"
      ],
      "execution_count": 10,
      "outputs": [
        {
          "output_type": "execute_result",
          "data": {
            "text/html": [
              "<div>\n",
              "<style scoped>\n",
              "    .dataframe tbody tr th:only-of-type {\n",
              "        vertical-align: middle;\n",
              "    }\n",
              "\n",
              "    .dataframe tbody tr th {\n",
              "        vertical-align: top;\n",
              "    }\n",
              "\n",
              "    .dataframe thead th {\n",
              "        text-align: right;\n",
              "    }\n",
              "</style>\n",
              "<table border=\"1\" class=\"dataframe\">\n",
              "  <thead>\n",
              "    <tr style=\"text-align: right;\">\n",
              "      <th></th>\n",
              "      <th>0</th>\n",
              "      <th>1</th>\n",
              "    </tr>\n",
              "  </thead>\n",
              "  <tbody>\n",
              "    <tr>\n",
              "      <th>placeID</th>\n",
              "      <td>134999</td>\n",
              "      <td>132825</td>\n",
              "    </tr>\n",
              "    <tr>\n",
              "      <th>latitude</th>\n",
              "      <td>18.9154</td>\n",
              "      <td>22.1474</td>\n",
              "    </tr>\n",
              "    <tr>\n",
              "      <th>longitude</th>\n",
              "      <td>-99.1849</td>\n",
              "      <td>-100.983</td>\n",
              "    </tr>\n",
              "    <tr>\n",
              "      <th>the_geom_meter</th>\n",
              "      <td>0101000020957F000088568DE356715AC138C0A525FC46...</td>\n",
              "      <td>0101000020957F00001AD016568C4858C1243261274BA5...</td>\n",
              "    </tr>\n",
              "    <tr>\n",
              "      <th>name</th>\n",
              "      <td>Kiku Cuernavaca</td>\n",
              "      <td>puesto de tacos</td>\n",
              "    </tr>\n",
              "    <tr>\n",
              "      <th>address</th>\n",
              "      <td>Revolucion</td>\n",
              "      <td>esquina santos degollado y leon guzman</td>\n",
              "    </tr>\n",
              "    <tr>\n",
              "      <th>city</th>\n",
              "      <td>Cuernavaca</td>\n",
              "      <td>s.l.p.</td>\n",
              "    </tr>\n",
              "    <tr>\n",
              "      <th>state</th>\n",
              "      <td>Morelos</td>\n",
              "      <td>s.l.p.</td>\n",
              "    </tr>\n",
              "    <tr>\n",
              "      <th>country</th>\n",
              "      <td>Mexico</td>\n",
              "      <td>mexico</td>\n",
              "    </tr>\n",
              "    <tr>\n",
              "      <th>fax</th>\n",
              "      <td>?</td>\n",
              "      <td>?</td>\n",
              "    </tr>\n",
              "    <tr>\n",
              "      <th>zip</th>\n",
              "      <td>?</td>\n",
              "      <td>78280</td>\n",
              "    </tr>\n",
              "    <tr>\n",
              "      <th>alcohol</th>\n",
              "      <td>No_Alcohol_Served</td>\n",
              "      <td>No_Alcohol_Served</td>\n",
              "    </tr>\n",
              "    <tr>\n",
              "      <th>smoking_area</th>\n",
              "      <td>none</td>\n",
              "      <td>none</td>\n",
              "    </tr>\n",
              "    <tr>\n",
              "      <th>dress_code</th>\n",
              "      <td>informal</td>\n",
              "      <td>informal</td>\n",
              "    </tr>\n",
              "    <tr>\n",
              "      <th>accessibility</th>\n",
              "      <td>no_accessibility</td>\n",
              "      <td>completely</td>\n",
              "    </tr>\n",
              "    <tr>\n",
              "      <th>price</th>\n",
              "      <td>medium</td>\n",
              "      <td>low</td>\n",
              "    </tr>\n",
              "    <tr>\n",
              "      <th>url</th>\n",
              "      <td>kikucuernavaca.com.mx</td>\n",
              "      <td>?</td>\n",
              "    </tr>\n",
              "    <tr>\n",
              "      <th>Rambience</th>\n",
              "      <td>familiar</td>\n",
              "      <td>familiar</td>\n",
              "    </tr>\n",
              "    <tr>\n",
              "      <th>franchise</th>\n",
              "      <td>f</td>\n",
              "      <td>f</td>\n",
              "    </tr>\n",
              "    <tr>\n",
              "      <th>area</th>\n",
              "      <td>closed</td>\n",
              "      <td>open</td>\n",
              "    </tr>\n",
              "    <tr>\n",
              "      <th>other_services</th>\n",
              "      <td>none</td>\n",
              "      <td>none</td>\n",
              "    </tr>\n",
              "    <tr>\n",
              "      <th>geometry</th>\n",
              "      <td>POINT (-99.184871 18.915421)</td>\n",
              "      <td>POINT (-100.983092 22.1473922)</td>\n",
              "    </tr>\n",
              "  </tbody>\n",
              "</table>\n",
              "</div>"
            ],
            "text/plain": [
              "                                                                0                                                  1\n",
              "placeID                                                    134999                                             132825\n",
              "latitude                                                  18.9154                                            22.1474\n",
              "longitude                                                -99.1849                                           -100.983\n",
              "the_geom_meter  0101000020957F000088568DE356715AC138C0A525FC46...  0101000020957F00001AD016568C4858C1243261274BA5...\n",
              "name                                              Kiku Cuernavaca                                    puesto de tacos\n",
              "address                                                Revolucion             esquina santos degollado y leon guzman\n",
              "city                                                   Cuernavaca                                             s.l.p.\n",
              "state                                                     Morelos                                             s.l.p.\n",
              "country                                                    Mexico                                             mexico\n",
              "fax                                                             ?                                                  ?\n",
              "zip                                                             ?                                              78280\n",
              "alcohol                                         No_Alcohol_Served                                  No_Alcohol_Served\n",
              "smoking_area                                                 none                                               none\n",
              "dress_code                                               informal                                           informal\n",
              "accessibility                                    no_accessibility                                         completely\n",
              "price                                                      medium                                                low\n",
              "url                                         kikucuernavaca.com.mx                                                  ?\n",
              "Rambience                                                familiar                                           familiar\n",
              "franchise                                                       f                                                  f\n",
              "area                                                       closed                                               open\n",
              "other_services                                               none                                               none\n",
              "geometry                             POINT (-99.184871 18.915421)                     POINT (-100.983092 22.1473922)"
            ]
          },
          "metadata": {
            "tags": []
          },
          "execution_count": 10
        }
      ]
    },
    {
      "cell_type": "code",
      "metadata": {
        "id": "BZdZhXvGHygI",
        "colab_type": "code",
        "outputId": "3b980cb1-73b7-4bb7-cfb1-d2c9d5cf8db2",
        "colab": {
          "base_uri": "https://localhost:8080/",
          "height": 34
        }
      },
      "source": [
        "geoplaces.shape"
      ],
      "execution_count": 11,
      "outputs": [
        {
          "output_type": "execute_result",
          "data": {
            "text/plain": [
              "(130, 22)"
            ]
          },
          "metadata": {
            "tags": []
          },
          "execution_count": 11
        }
      ]
    },
    {
      "cell_type": "code",
      "metadata": {
        "id": "Nf45ESAKHylF",
        "colab_type": "code",
        "outputId": "de4587cb-5850-4f9f-dffe-aae7d5d484d5",
        "colab": {
          "base_uri": "https://localhost:8080/",
          "height": 688
        }
      },
      "source": [
        "# Display in an interactive map - Folium\n",
        "m = folium.Map (\n",
        "    location = [18.915421, -99.184871],\n",
        "    \n",
        "    zoom_start = 7\n",
        ")\n",
        "folium.GeoJson(geoplaces).add_to(m)\n",
        "\n",
        "m"
      ],
      "execution_count": 12,
      "outputs": [
        {
          "output_type": "execute_result",
          "data": {
            "text/html": [
              "<div style=\"width:100%;\"><div style=\"position:relative;width:100%;height:0;padding-bottom:60%;\"><iframe src=\"data:text/html;charset=utf-8;base64,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\" style=\"position:absolute;width:100%;height:100%;left:0;top:0;border:none !important;\" allowfullscreen webkitallowfullscreen mozallowfullscreen></iframe></div></div>"
            ],
            "text/plain": [
              "<folium.folium.Map at 0x7f281f92de80>"
            ]
          },
          "metadata": {
            "tags": []
          },
          "execution_count": 12
        }
      ]
    },
    {
      "cell_type": "code",
      "metadata": {
        "id": "VGahk9MKFn4w",
        "colab_type": "code",
        "outputId": "c0abf067-e32f-41bc-954a-5e620c440898",
        "colab": {
          "base_uri": "https://localhost:8080/",
          "height": 688
        }
      },
      "source": [
        "from folium.plugins import FastMarkerCluster\n",
        "\n",
        "lons = geoplaces['longitude'] \n",
        "lats = geoplaces['latitude']\n",
        "m = folium.Map(\n",
        "    location = [np.mean(geoplaces.latitude), np.mean(geoplaces.longitude)],\n",
        "    tiles= 'CartoDB dark_matter',\n",
        "    zoom_start=6\n",
        "    )\n",
        "FastMarkerCluster(data=list(zip(lats, lons))).add_to(m)\n",
        "folium.LayerControl().add_to(m)\n",
        "\n",
        "m"
      ],
      "execution_count": 13,
      "outputs": [
        {
          "output_type": "execute_result",
          "data": {
            "text/html": [
              "<div style=\"width:100%;\"><div style=\"position:relative;width:100%;height:0;padding-bottom:60%;\"><iframe src=\"data:text/html;charset=utf-8;base64,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\" style=\"position:absolute;width:100%;height:100%;left:0;top:0;border:none !important;\" allowfullscreen webkitallowfullscreen mozallowfullscreen></iframe></div></div>"
            ],
            "text/plain": [
              "<folium.folium.Map at 0x7f281f83c8d0>"
            ]
          },
          "metadata": {
            "tags": []
          },
          "execution_count": 13
        }
      ]
    },
    {
      "cell_type": "code",
      "metadata": {
        "id": "vpLwIMM_H9yL",
        "colab_type": "code",
        "outputId": "5ec172ce-2cda-489d-a527-69bb64bed582",
        "colab": {
          "base_uri": "https://localhost:8080/",
          "height": 34
        }
      },
      "source": [
        "print(\"Unique Cities in the dataset is {}\".format(geoplaces.city.nunique()))"
      ],
      "execution_count": 14,
      "outputs": [
        {
          "output_type": "stream",
          "text": [
            "Unique Cities in the dataset is 17\n"
          ],
          "name": "stdout"
        }
      ]
    },
    {
      "cell_type": "code",
      "metadata": {
        "id": "2VdqJECTIJ2H",
        "colab_type": "code",
        "outputId": "78f7fb9e-02ca-4521-e439-505bf088f55a",
        "colab": {
          "base_uri": "https://localhost:8080/",
          "height": 718
        }
      },
      "source": [
        "\n",
        "# Display cities in countplot\n",
        "fig, ax = plt.subplots(figsize=(18,12))\n",
        "sns.countplot(x=\"city\",data=geoplaces, color=\"grey\", order=geoplaces['city'].value_counts().index, ax=ax)\n",
        "plt.savefig('citiesCountplot.png')\n",
        "plt.show()"
      ],
      "execution_count": 15,
      "outputs": [
        {
          "output_type": "display_data",
          "data": {
            "image/png": "[encoded data removed]",
            "text/plain": [
              "<Figure size 1296x864 with 1 Axes>"
            ]
          },
          "metadata": {
            "tags": []
          }
        }
      ]
    },
    {
      "cell_type": "markdown",
      "metadata": {
        "id": "MK0hWYOZIwns",
        "colab_type": "text"
      },
      "source": [
        "As you can see there are some mistyped cities with the same name.We need to clean the data. "
      ]
    },
    {
      "cell_type": "code",
      "metadata": {
        "id": "tzXt596bI6bE",
        "colab_type": "code",
        "outputId": "3e942fe6-fea2-4615-f847-81b2b61daf81",
        "colab": {
          "base_uri": "https://localhost:8080/",
          "height": 86
        }
      },
      "source": [
        "# Get the names of unique cities in the dataset\n",
        "geoplaces['city'].unique()"
      ],
      "execution_count": 16,
      "outputs": [
        {
          "output_type": "execute_result",
          "data": {
            "text/plain": [
              "array(['Cuernavaca', 's.l.p.', 'San Luis Potosi', 'victoria ', 'victoria',\n",
              "       'Cd Victoria', '?', 'san luis potosi', 'Jiutepec', 'cuernavaca',\n",
              "       'slp', 'Soledad', 'san luis potos', 'san luis potosi ',\n",
              "       'Ciudad Victoria', 'Cd. Victoria', 's.l.p'], dtype=object)"
            ]
          },
          "metadata": {
            "tags": []
          },
          "execution_count": 16
        }
      ]
    },
    {
      "cell_type": "code",
      "metadata": {
        "id": "046LiY36JTEV",
        "colab_type": "code",
        "colab": {}
      },
      "source": [
        "# Group each city different names\n",
        "cuer = ['Cuernavaca', 'cuernavaca', ]\n",
        "slp = ['s.l.p.',  'San Luis Potosi', 'san luis potosi', 'slp', 'san luis potos', 'san luis potosi ', 's.l.p'] \n",
        "ciudad = ['victoria ', 'victoria', 'Cd Victoria', 'Ciudad Victoria', 'Cd. Victoria']"
      ],
      "execution_count": 0,
      "outputs": []
    },
    {
      "cell_type": "code",
      "metadata": {
        "id": "dNn0n2QLJda2",
        "colab_type": "code",
        "colab": {}
      },
      "source": [
        "# Replace mistyped names with the right name\n",
        "geoplaces['city']=geoplaces['city'].replace(slp,'San Luis Potosi' )\n",
        "geoplaces['city']=geoplaces['city'].replace(ciudad,'Ciudad Victoria')\n",
        "geoplaces['city']=geoplaces['city'].replace(cuer,'Cuernavaca')"
      ],
      "execution_count": 0,
      "outputs": []
    },
    {
      "cell_type": "code",
      "metadata": {
        "id": "uY6XvVRUJrmW",
        "colab_type": "code",
        "outputId": "db013586-88ff-4bca-bab7-50f3b5310d38",
        "colab": {
          "base_uri": "https://localhost:8080/",
          "height": 718
        }
      },
      "source": [
        "# Display cleaned cities in countplot\n",
        "fig, ax = plt.subplots(figsize=(18,12))\n",
        "sns.countplot(x=\"city\",data=geoplaces, color=\"grey\", order=geoplaces['city'].value_counts().index, ax=ax)\n",
        "plt.show()"
      ],
      "execution_count": 19,
      "outputs": [
        {
          "output_type": "display_data",
          "data": {
            "image/png": "[encoded data removed]",
            "text/plain": [
              "<Figure size 1296x864 with 1 Axes>"
            ]
          },
          "metadata": {
            "tags": []
          }
        }
      ]
    },
    {
      "cell_type": "code",
      "metadata": {
        "id": "wPJgvjulJxpu",
        "colab_type": "code",
        "outputId": "7a580ab1-274a-40b6-e6d4-6dbe46aea233",
        "colab": {
          "base_uri": "https://localhost:8080/",
          "height": 873
        }
      },
      "source": [
        "# Subplots for four countplots\n",
        "fig, ax = plt.subplots(2,2, figsize=(15,12))\n",
        "sns.countplot(x=\"alcohol\",data=geoplaces, color=\"grey\", ax=ax[0][0])\n",
        "ax[0][0].set_title('Alcohol Service')\n",
        "sns.countplot(x=\"price\",data=geoplaces, color=\"grey\", ax=ax[0][1])\n",
        "ax[0][1].set_title('Price Categories')\n",
        "sns.countplot(x=\"accessibility\",data=geoplaces, color=\"grey\", ax=ax[1][0])\n",
        "ax[1][0].set_title('Accessibility Categories')\n",
        "sns.countplot(x=\"Rambience\",data=geoplaces, color=\"grey\", ax=ax[1][1])\n",
        "ax[1][1].set_title('Rambience')\n",
        "#fig.subplots_adjust(hspace=0.5)\n",
        "plt.tight_layout()\n",
        "plt.savefig('countplot_m.png')\n",
        "plt.show()"
      ],
      "execution_count": 20,
      "outputs": [
        {
          "output_type": "display_data",
          "data": {
            "image/png": "[encoded data removed]",
            "text/plain": [
              "<Figure size 1080x864 with 4 Axes>"
            ]
          },
          "metadata": {
            "tags": []
          }
        }
      ]
    },
    {
      "cell_type": "markdown",
      "metadata": {
        "id": "G5Z5cQywKAVC",
        "colab_type": "text"
      },
      "source": [
        "### Merge Ratings & Geoplaces"
      ]
    },
    {
      "cell_type": "code",
      "metadata": {
        "id": "cxfjTaMFKJRs",
        "colab_type": "code",
        "outputId": "b61daf66-399a-4e57-e2e7-0beac9539e97",
        "colab": {
          "base_uri": "https://localhost:8080/",
          "height": 396
        }
      },
      "source": [
        "df = pd.merge(ratings, geoplaces, on='placeID')\n",
        "df.head()"
      ],
      "execution_count": 21,
      "outputs": [
        {
          "output_type": "execute_result",
          "data": {
            "text/html": [
              "<div>\n",
              "<style scoped>\n",
              "    .dataframe tbody tr th:only-of-type {\n",
              "        vertical-align: middle;\n",
              "    }\n",
              "\n",
              "    .dataframe tbody tr th {\n",
              "        vertical-align: top;\n",
              "    }\n",
              "\n",
              "    .dataframe thead th {\n",
              "        text-align: right;\n",
              "    }\n",
              "</style>\n",
              "<table border=\"1\" class=\"dataframe\">\n",
              "  <thead>\n",
              "    <tr style=\"text-align: right;\">\n",
              "      <th></th>\n",
              "      <th>userID</th>\n",
              "      <th>placeID</th>\n",
              "      <th>rating</th>\n",
              "      <th>food_rating</th>\n",
              "      <th>service_rating</th>\n",
              "      <th>latitude</th>\n",
              "      <th>longitude</th>\n",
              "      <th>the_geom_meter</th>\n",
              "      <th>name</th>\n",
              "      <th>address</th>\n",
              "      <th>city</th>\n",
              "      <th>state</th>\n",
              "      <th>country</th>\n",
              "      <th>fax</th>\n",
              "      <th>zip</th>\n",
              "      <th>alcohol</th>\n",
              "      <th>smoking_area</th>\n",
              "      <th>dress_code</th>\n",
              "      <th>accessibility</th>\n",
              "      <th>price</th>\n",
              "      <th>url</th>\n",
              "      <th>Rambience</th>\n",
              "      <th>franchise</th>\n",
              "      <th>area</th>\n",
              "      <th>other_services</th>\n",
              "      <th>geometry</th>\n",
              "    </tr>\n",
              "  </thead>\n",
              "  <tbody>\n",
              "    <tr>\n",
              "      <th>0</th>\n",
              "      <td>U1077</td>\n",
              "      <td>135085</td>\n",
              "      <td>2</td>\n",
              "      <td>2</td>\n",
              "      <td>2</td>\n",
              "      <td>22.150802</td>\n",
              "      <td>-100.98268</td>\n",
              "      <td>0101000020957F00009F823DA6094858C18A2D4D37F9A4...</td>\n",
              "      <td>Tortas Locas Hipocampo</td>\n",
              "      <td>Venustiano Carranza 719 Centro</td>\n",
              "      <td>San Luis Potosi</td>\n",
              "      <td>SLP</td>\n",
              "      <td>Mexico</td>\n",
              "      <td>?</td>\n",
              "      <td>78000</td>\n",
              "      <td>No_Alcohol_Served</td>\n",
              "      <td>not permitted</td>\n",
              "      <td>informal</td>\n",
              "      <td>no_accessibility</td>\n",
              "      <td>medium</td>\n",
              "      <td>?</td>\n",
              "      <td>familiar</td>\n",
              "      <td>f</td>\n",
              "      <td>closed</td>\n",
              "      <td>none</td>\n",
              "      <td>POINT (-100.98268 22.150802)</td>\n",
              "    </tr>\n",
              "    <tr>\n",
              "      <th>1</th>\n",
              "      <td>U1108</td>\n",
              "      <td>135085</td>\n",
              "      <td>1</td>\n",
              "      <td>2</td>\n",
              "      <td>1</td>\n",
              "      <td>22.150802</td>\n",
              "      <td>-100.98268</td>\n",
              "      <td>0101000020957F00009F823DA6094858C18A2D4D37F9A4...</td>\n",
              "      <td>Tortas Locas Hipocampo</td>\n",
              "      <td>Venustiano Carranza 719 Centro</td>\n",
              "      <td>San Luis Potosi</td>\n",
              "      <td>SLP</td>\n",
              "      <td>Mexico</td>\n",
              "      <td>?</td>\n",
              "      <td>78000</td>\n",
              "      <td>No_Alcohol_Served</td>\n",
              "      <td>not permitted</td>\n",
              "      <td>informal</td>\n",
              "      <td>no_accessibility</td>\n",
              "      <td>medium</td>\n",
              "      <td>?</td>\n",
              "      <td>familiar</td>\n",
              "      <td>f</td>\n",
              "      <td>closed</td>\n",
              "      <td>none</td>\n",
              "      <td>POINT (-100.98268 22.150802)</td>\n",
              "    </tr>\n",
              "    <tr>\n",
              "      <th>2</th>\n",
              "      <td>U1081</td>\n",
              "      <td>135085</td>\n",
              "      <td>1</td>\n",
              "      <td>2</td>\n",
              "      <td>1</td>\n",
              "      <td>22.150802</td>\n",
              "      <td>-100.98268</td>\n",
              "      <td>0101000020957F00009F823DA6094858C18A2D4D37F9A4...</td>\n",
              "      <td>Tortas Locas Hipocampo</td>\n",
              "      <td>Venustiano Carranza 719 Centro</td>\n",
              "      <td>San Luis Potosi</td>\n",
              "      <td>SLP</td>\n",
              "      <td>Mexico</td>\n",
              "      <td>?</td>\n",
              "      <td>78000</td>\n",
              "      <td>No_Alcohol_Served</td>\n",
              "      <td>not permitted</td>\n",
              "      <td>informal</td>\n",
              "      <td>no_accessibility</td>\n",
              "      <td>medium</td>\n",
              "      <td>?</td>\n",
              "      <td>familiar</td>\n",
              "      <td>f</td>\n",
              "      <td>closed</td>\n",
              "      <td>none</td>\n",
              "      <td>POINT (-100.98268 22.150802)</td>\n",
              "    </tr>\n",
              "    <tr>\n",
              "      <th>3</th>\n",
              "      <td>U1056</td>\n",
              "      <td>135085</td>\n",
              "      <td>2</td>\n",
              "      <td>2</td>\n",
              "      <td>2</td>\n",
              "      <td>22.150802</td>\n",
              "      <td>-100.98268</td>\n",
              "      <td>0101000020957F00009F823DA6094858C18A2D4D37F9A4...</td>\n",
              "      <td>Tortas Locas Hipocampo</td>\n",
              "      <td>Venustiano Carranza 719 Centro</td>\n",
              "      <td>San Luis Potosi</td>\n",
              "      <td>SLP</td>\n",
              "      <td>Mexico</td>\n",
              "      <td>?</td>\n",
              "      <td>78000</td>\n",
              "      <td>No_Alcohol_Served</td>\n",
              "      <td>not permitted</td>\n",
              "      <td>informal</td>\n",
              "      <td>no_accessibility</td>\n",
              "      <td>medium</td>\n",
              "      <td>?</td>\n",
              "      <td>familiar</td>\n",
              "      <td>f</td>\n",
              "      <td>closed</td>\n",
              "      <td>none</td>\n",
              "      <td>POINT (-100.98268 22.150802)</td>\n",
              "    </tr>\n",
              "    <tr>\n",
              "      <th>4</th>\n",
              "      <td>U1134</td>\n",
              "      <td>135085</td>\n",
              "      <td>2</td>\n",
              "      <td>1</td>\n",
              "      <td>2</td>\n",
              "      <td>22.150802</td>\n",
              "      <td>-100.98268</td>\n",
              "      <td>0101000020957F00009F823DA6094858C18A2D4D37F9A4...</td>\n",
              "      <td>Tortas Locas Hipocampo</td>\n",
              "      <td>Venustiano Carranza 719 Centro</td>\n",
              "      <td>San Luis Potosi</td>\n",
              "      <td>SLP</td>\n",
              "      <td>Mexico</td>\n",
              "      <td>?</td>\n",
              "      <td>78000</td>\n",
              "      <td>No_Alcohol_Served</td>\n",
              "      <td>not permitted</td>\n",
              "      <td>informal</td>\n",
              "      <td>no_accessibility</td>\n",
              "      <td>medium</td>\n",
              "      <td>?</td>\n",
              "      <td>familiar</td>\n",
              "      <td>f</td>\n",
              "      <td>closed</td>\n",
              "      <td>none</td>\n",
              "      <td>POINT (-100.98268 22.150802)</td>\n",
              "    </tr>\n",
              "  </tbody>\n",
              "</table>\n",
              "</div>"
            ],
            "text/plain": [
              "  userID  placeID  rating  ...    area  other_services                      geometry\n",
              "0  U1077   135085       2  ...  closed            none  POINT (-100.98268 22.150802)\n",
              "1  U1108   135085       1  ...  closed            none  POINT (-100.98268 22.150802)\n",
              "2  U1081   135085       1  ...  closed            none  POINT (-100.98268 22.150802)\n",
              "3  U1056   135085       2  ...  closed            none  POINT (-100.98268 22.150802)\n",
              "4  U1134   135085       2  ...  closed            none  POINT (-100.98268 22.150802)\n",
              "\n",
              "[5 rows x 26 columns]"
            ]
          },
          "metadata": {
            "tags": []
          },
          "execution_count": 21
        }
      ]
    },
    {
      "cell_type": "code",
      "metadata": {
        "id": "2kSti7DzKJsa",
        "colab_type": "code",
        "outputId": "acdb2f35-54a0-4c81-af6d-a4c8fd63bb8b",
        "colab": {
          "base_uri": "https://localhost:8080/",
          "height": 34
        }
      },
      "source": [
        "df.shape"
      ],
      "execution_count": 22,
      "outputs": [
        {
          "output_type": "execute_result",
          "data": {
            "text/plain": [
              "(1161, 26)"
            ]
          },
          "metadata": {
            "tags": []
          },
          "execution_count": 22
        }
      ]
    },
    {
      "cell_type": "code",
      "metadata": {
        "id": "lcdqCaWXKNkp",
        "colab_type": "code",
        "outputId": "5bb388ea-1441-48a1-d3f1-11c392a96f6b",
        "colab": {
          "base_uri": "https://localhost:8080/",
          "height": 485
        }
      },
      "source": [
        "df.isnull().sum()"
      ],
      "execution_count": 23,
      "outputs": [
        {
          "output_type": "execute_result",
          "data": {
            "text/plain": [
              "userID            0\n",
              "placeID           0\n",
              "rating            0\n",
              "food_rating       0\n",
              "service_rating    0\n",
              "latitude          0\n",
              "longitude         0\n",
              "the_geom_meter    0\n",
              "name              0\n",
              "address           0\n",
              "city              0\n",
              "state             0\n",
              "country           0\n",
              "fax               0\n",
              "zip               0\n",
              "alcohol           0\n",
              "smoking_area      0\n",
              "dress_code        0\n",
              "accessibility     0\n",
              "price             0\n",
              "url               0\n",
              "Rambience         0\n",
              "franchise         0\n",
              "area              0\n",
              "other_services    0\n",
              "geometry          0\n",
              "dtype: int64"
            ]
          },
          "metadata": {
            "tags": []
          },
          "execution_count": 23
        }
      ]
    },
    {
      "cell_type": "markdown",
      "metadata": {
        "id": "MovLl8txKN1s",
        "colab_type": "text"
      },
      "source": [
        "## Recommender Systems \n",
        "\n",
        "We will use Surprise, a Python Scikit library for building and analyzing recommender systesm\n",
        "\n"
      ]
    },
    {
      "cell_type": "code",
      "metadata": {
        "id": "RW6e5uhvKUUs",
        "colab_type": "code",
        "colab": {}
      },
      "source": [
        "# Set rating scale of the dataset\n",
        "reader = Reader(rating_scale=(0, 2))\n",
        "\n",
        "# Load the dataframe with ratings.\n",
        "data = Dataset.load_from_df(df[['userID', 'placeID', 'rating']], reader)"
      ],
      "execution_count": 0,
      "outputs": []
    },
    {
      "cell_type": "code",
      "metadata": {
        "id": "afspiW4oLero",
        "colab_type": "code",
        "outputId": "4b964643-1062-4df6-9473-1d6c2bcc73d9",
        "colab": {
          "base_uri": "https://localhost:8080/",
          "height": 450
        }
      },
      "source": [
        "benchmark_scores = []\n",
        "\n",
        "\n",
        "random.seed(114)\n",
        "np.random.seed(114)\n",
        "\n",
        "# Iterate selected algorithms\n",
        "for algorithm in [BaselineOnly(), SVD(), SVDpp(),  KNNWithMeans(),KNNWithZScore(), CoClustering(), NMF()]:\n",
        "    # Cross-validation\n",
        "    cv = cross_validate(algorithm, data, cv=5, verbose=False)\n",
        "    \n",
        "    # create df with cv results\n",
        "    df_cv = pd.DataFrame.from_dict(cv).mean(axis=0)\n",
        "    df_cv = df_cv.append(pd.Series([str(algorithm).split(' ')[0].split('.')[-1]], index=['Algorithm']))\n",
        "    benchmark_scores.append(df_cv)\n"
      ],
      "execution_count": 25,
      "outputs": [
        {
          "output_type": "stream",
          "text": [
            "Estimating biases using als...\n",
            "Estimating biases using als...\n",
            "Estimating biases using als...\n",
            "Estimating biases using als...\n",
            "Estimating biases using als...\n",
            "Computing the msd similarity matrix...\n",
            "Done computing similarity matrix.\n",
            "Computing the msd similarity matrix...\n",
            "Done computing similarity matrix.\n",
            "Computing the msd similarity matrix...\n",
            "Done computing similarity matrix.\n",
            "Computing the msd similarity matrix...\n",
            "Done computing similarity matrix.\n",
            "Computing the msd similarity matrix...\n",
            "Done computing similarity matrix.\n",
            "Computing the msd similarity matrix...\n",
            "Done computing similarity matrix.\n",
            "Computing the msd similarity matrix...\n",
            "Done computing similarity matrix.\n",
            "Computing the msd similarity matrix...\n",
            "Done computing similarity matrix.\n",
            "Computing the msd similarity matrix...\n",
            "Done computing similarity matrix.\n",
            "Computing the msd similarity matrix...\n",
            "Done computing similarity matrix.\n"
          ],
          "name": "stdout"
        }
      ]
    },
    {
      "cell_type": "code",
      "metadata": {
        "id": "U1KqEEgZOhDT",
        "colab_type": "code",
        "colab": {
          "base_uri": "https://localhost:8080/",
          "height": 294
        },
        "outputId": "aded017a-e994-41eb-c23a-334e9e26288d"
      },
      "source": [
        "# Create results DataFrame from the benckmark scores\n",
        "results = pd.DataFrame(benchmark_scores).set_index('Algorithm').sort_values('test_rmse')\n",
        "results"
      ],
      "execution_count": 26,
      "outputs": [
        {
          "output_type": "execute_result",
          "data": {
            "text/html": [
              "<div>\n",
              "<style scoped>\n",
              "    .dataframe tbody tr th:only-of-type {\n",
              "        vertical-align: middle;\n",
              "    }\n",
              "\n",
              "    .dataframe tbody tr th {\n",
              "        vertical-align: top;\n",
              "    }\n",
              "\n",
              "    .dataframe thead th {\n",
              "        text-align: right;\n",
              "    }\n",
              "</style>\n",
              "<table border=\"1\" class=\"dataframe\">\n",
              "  <thead>\n",
              "    <tr style=\"text-align: right;\">\n",
              "      <th></th>\n",
              "      <th>test_rmse</th>\n",
              "      <th>test_mae</th>\n",
              "      <th>fit_time</th>\n",
              "      <th>test_time</th>\n",
              "    </tr>\n",
              "    <tr>\n",
              "      <th>Algorithm</th>\n",
              "      <th></th>\n",
              "      <th></th>\n",
              "      <th></th>\n",
              "      <th></th>\n",
              "    </tr>\n",
              "  </thead>\n",
              "  <tbody>\n",
              "    <tr>\n",
              "      <th>SVDpp</th>\n",
              "      <td>0.657078</td>\n",
              "      <td>0.549815</td>\n",
              "      <td>0.209024</td>\n",
              "      <td>0.004949</td>\n",
              "    </tr>\n",
              "    <tr>\n",
              "      <th>KNNWithMeans</th>\n",
              "      <td>0.661444</td>\n",
              "      <td>0.497731</td>\n",
              "      <td>0.002725</td>\n",
              "      <td>0.005682</td>\n",
              "    </tr>\n",
              "    <tr>\n",
              "      <th>SVD</th>\n",
              "      <td>0.666097</td>\n",
              "      <td>0.565743</td>\n",
              "      <td>0.066792</td>\n",
              "      <td>0.001960</td>\n",
              "    </tr>\n",
              "    <tr>\n",
              "      <th>KNNWithZScore</th>\n",
              "      <td>0.677907</td>\n",
              "      <td>0.502996</td>\n",
              "      <td>0.006953</td>\n",
              "      <td>0.006416</td>\n",
              "    </tr>\n",
              "    <tr>\n",
              "      <th>BaselineOnly</th>\n",
              "      <td>0.691530</td>\n",
              "      <td>0.595164</td>\n",
              "      <td>0.002257</td>\n",
              "      <td>0.001552</td>\n",
              "    </tr>\n",
              "    <tr>\n",
              "      <th>CoClustering</th>\n",
              "      <td>0.696392</td>\n",
              "      <td>0.516317</td>\n",
              "      <td>0.031733</td>\n",
              "      <td>0.001700</td>\n",
              "    </tr>\n",
              "    <tr>\n",
              "      <th>NMF</th>\n",
              "      <td>0.718128</td>\n",
              "      <td>0.549835</td>\n",
              "      <td>0.079612</td>\n",
              "      <td>0.001682</td>\n",
              "    </tr>\n",
              "  </tbody>\n",
              "</table>\n",
              "</div>"
            ],
            "text/plain": [
              "               test_rmse  test_mae  fit_time  test_time\n",
              "Algorithm                                              \n",
              "SVDpp           0.657078  0.549815  0.209024   0.004949\n",
              "KNNWithMeans    0.661444  0.497731  0.002725   0.005682\n",
              "SVD             0.666097  0.565743  0.066792   0.001960\n",
              "KNNWithZScore   0.677907  0.502996  0.006953   0.006416\n",
              "BaselineOnly    0.691530  0.595164  0.002257   0.001552\n",
              "CoClustering    0.696392  0.516317  0.031733   0.001700\n",
              "NMF             0.718128  0.549835  0.079612   0.001682"
            ]
          },
          "metadata": {
            "tags": []
          },
          "execution_count": 26
        }
      ]
    },
    {
      "cell_type": "markdown",
      "metadata": {
        "id": "R3Kdx4T2VQdU",
        "colab_type": "text"
      },
      "source": [
        "Cross Validation K-Fold"
      ]
    },
    {
      "cell_type": "code",
      "metadata": {
        "id": "8YaX0AF0XDTt",
        "colab_type": "code",
        "colab": {}
      },
      "source": [
        "\n",
        "\n",
        "# define a cross-validation iterator\n",
        "kf = KFold(n_splits=5)\n",
        "\n",
        "# Define algorithms (Top 2)\n",
        "algo_knnwithMeans = KNNWithMeans()\n",
        "algo_svdpp = SVDpp()\n",
        "\n",
        "\n",
        "\n",
        "    "
      ],
      "execution_count": 0,
      "outputs": []
    },
    {
      "cell_type": "markdown",
      "metadata": {
        "id": "J_y3LEmAbcy3",
        "colab_type": "text"
      },
      "source": [
        "### KNNWithMeans"
      ]
    },
    {
      "cell_type": "code",
      "metadata": {
        "id": "kVi3hyGnbNyu",
        "colab_type": "code",
        "outputId": "483d34c4-db5c-43dd-fdfa-d349a0a07525",
        "colab": {
          "base_uri": "https://localhost:8080/",
          "height": 277
        }
      },
      "source": [
        "\n",
        "random.seed(114)\n",
        "np.random.seed(114)\n",
        "\n",
        "for trainset, testset in kf.split(data):\n",
        "\n",
        "    # train and test algorithm with KNNWithMeans.\n",
        "    algo_knnwithMeans.fit(trainset)\n",
        "    predictions_knnwithmeans = algo_knnwithMeans.test(testset)\n",
        "    # Compute and print Root Mean Squared Error\n",
        "    accuracy.rmse(predictions_knnwithmeans, verbose=True)\n",
        "    \n",
        "    dump.dump('./dump_KNNWithMeans', predictions_knnwithmeans, algo_knnwithMeans)\n"
      ],
      "execution_count": 28,
      "outputs": [
        {
          "output_type": "stream",
          "text": [
            "Computing the msd similarity matrix...\n",
            "Done computing similarity matrix.\n",
            "RMSE: 0.6893\n",
            "Computing the msd similarity matrix...\n",
            "Done computing similarity matrix.\n",
            "RMSE: 0.6500\n",
            "Computing the msd similarity matrix...\n",
            "Done computing similarity matrix.\n",
            "RMSE: 0.6478\n",
            "Computing the msd similarity matrix...\n",
            "Done computing similarity matrix.\n",
            "RMSE: 0.6668\n",
            "Computing the msd similarity matrix...\n",
            "Done computing similarity matrix.\n",
            "RMSE: 0.6886\n"
          ],
          "name": "stdout"
        }
      ]
    },
    {
      "cell_type": "code",
      "metadata": {
        "id": "rmjAq_1IOwUZ",
        "colab_type": "code",
        "colab": {
          "base_uri": "https://localhost:8080/",
          "height": 34
        },
        "outputId": "6aae23f3-4644-4e7e-e1a7-2f780167cdcb"
      },
      "source": [
        "print(\"Average RMSE of the CV is: \", np.mean(accuracy.rmse(predictions_knnwithmeans, verbose=False)))"
      ],
      "execution_count": 29,
      "outputs": [
        {
          "output_type": "stream",
          "text": [
            "Average RMSE of the CV is:  0.688647918600383\n"
          ],
          "name": "stdout"
        }
      ]
    },
    {
      "cell_type": "markdown",
      "metadata": {
        "id": "Kh3lxKqPMlV9",
        "colab_type": "text"
      },
      "source": [
        "Create DataFrame of KNNwithMeans Reuslts\n"
      ]
    },
    {
      "cell_type": "code",
      "metadata": {
        "id": "WdZdfcRfL9W3",
        "colab_type": "code",
        "colab": {}
      },
      "source": [
        "# Load the dump file\n",
        "predictions_knnwithmeans, algo_knnwithMeans = dump.load('./dump_KNNWithMeans')"
      ],
      "execution_count": 0,
      "outputs": []
    },
    {
      "cell_type": "code",
      "metadata": {
        "id": "_mQ5kofaL9Za",
        "colab_type": "code",
        "colab": {
          "base_uri": "https://localhost:8080/",
          "height": 202
        },
        "outputId": "5ad25a93-b204-4789-b91f-85523fd6c362"
      },
      "source": [
        "df_knnithmeans = pd.DataFrame(predictions_knnwithmeans, columns=['uid', 'iid', 'rui', 'est', 'details'])  \n",
        "df_knnithmeans.head()"
      ],
      "execution_count": 31,
      "outputs": [
        {
          "output_type": "execute_result",
          "data": {
            "text/html": [
              "<div>\n",
              "<style scoped>\n",
              "    .dataframe tbody tr th:only-of-type {\n",
              "        vertical-align: middle;\n",
              "    }\n",
              "\n",
              "    .dataframe tbody tr th {\n",
              "        vertical-align: top;\n",
              "    }\n",
              "\n",
              "    .dataframe thead th {\n",
              "        text-align: right;\n",
              "    }\n",
              "</style>\n",
              "<table border=\"1\" class=\"dataframe\">\n",
              "  <thead>\n",
              "    <tr style=\"text-align: right;\">\n",
              "      <th></th>\n",
              "      <th>uid</th>\n",
              "      <th>iid</th>\n",
              "      <th>rui</th>\n",
              "      <th>est</th>\n",
              "      <th>details</th>\n",
              "    </tr>\n",
              "  </thead>\n",
              "  <tbody>\n",
              "    <tr>\n",
              "      <th>0</th>\n",
              "      <td>U1040</td>\n",
              "      <td>134999</td>\n",
              "      <td>1.0</td>\n",
              "      <td>0.983333</td>\n",
              "      <td>{'actual_k': 2, 'was_impossible': False}</td>\n",
              "    </tr>\n",
              "    <tr>\n",
              "      <th>1</th>\n",
              "      <td>U1032</td>\n",
              "      <td>135042</td>\n",
              "      <td>0.0</td>\n",
              "      <td>1.239111</td>\n",
              "      <td>{'actual_k': 12, 'was_impossible': False}</td>\n",
              "    </tr>\n",
              "    <tr>\n",
              "      <th>2</th>\n",
              "      <td>U1061</td>\n",
              "      <td>135058</td>\n",
              "      <td>1.0</td>\n",
              "      <td>1.420927</td>\n",
              "      <td>{'actual_k': 9, 'was_impossible': False}</td>\n",
              "    </tr>\n",
              "    <tr>\n",
              "      <th>3</th>\n",
              "      <td>U1118</td>\n",
              "      <td>134992</td>\n",
              "      <td>0.0</td>\n",
              "      <td>0.000000</td>\n",
              "      <td>{'actual_k': 2, 'was_impossible': False}</td>\n",
              "    </tr>\n",
              "    <tr>\n",
              "      <th>4</th>\n",
              "      <td>U1019</td>\n",
              "      <td>132856</td>\n",
              "      <td>0.0</td>\n",
              "      <td>0.000000</td>\n",
              "      <td>{'actual_k': 11, 'was_impossible': False}</td>\n",
              "    </tr>\n",
              "  </tbody>\n",
              "</table>\n",
              "</div>"
            ],
            "text/plain": [
              "     uid     iid  rui       est                                    details\n",
              "0  U1040  134999  1.0  0.983333   {'actual_k': 2, 'was_impossible': False}\n",
              "1  U1032  135042  0.0  1.239111  {'actual_k': 12, 'was_impossible': False}\n",
              "2  U1061  135058  1.0  1.420927   {'actual_k': 9, 'was_impossible': False}\n",
              "3  U1118  134992  0.0  0.000000   {'actual_k': 2, 'was_impossible': False}\n",
              "4  U1019  132856  0.0  0.000000  {'actual_k': 11, 'was_impossible': False}"
            ]
          },
          "metadata": {
            "tags": []
          },
          "execution_count": 31
        }
      ]
    },
    {
      "cell_type": "code",
      "metadata": {
        "id": "bIEhb2tuXvoO",
        "colab_type": "code",
        "colab": {
          "base_uri": "https://localhost:8080/",
          "height": 34
        },
        "outputId": "c99fe262-5130-4f23-f553-b2fce4ef9572"
      },
      "source": [
        "df_knnithmeans.rui.unique()"
      ],
      "execution_count": 32,
      "outputs": [
        {
          "output_type": "execute_result",
          "data": {
            "text/plain": [
              "array([1., 0., 2.])"
            ]
          },
          "metadata": {
            "tags": []
          },
          "execution_count": 32
        }
      ]
    },
    {
      "cell_type": "code",
      "metadata": {
        "id": "tuNBtYALNbNe",
        "colab_type": "code",
        "colab": {
          "base_uri": "https://localhost:8080/",
          "height": 34
        },
        "outputId": "a5d88342-09e7-46ba-c3db-24022ac949fa"
      },
      "source": [
        "df_knnithmeans.shape"
      ],
      "execution_count": 33,
      "outputs": [
        {
          "output_type": "execute_result",
          "data": {
            "text/plain": [
              "(232, 5)"
            ]
          },
          "metadata": {
            "tags": []
          },
          "execution_count": 33
        }
      ]
    },
    {
      "cell_type": "code",
      "metadata": {
        "id": "0h9q_MgqL9iw",
        "colab_type": "code",
        "colab": {
          "base_uri": "https://localhost:8080/",
          "height": 202
        },
        "outputId": "e0b8231c-5a22-4848-cf91-2d3bc3dc7c03"
      },
      "source": [
        "# Calculate the error\n",
        "df_knnithmeans['err'] = abs(df_knnithmeans.est - df_knnithmeans.rui)\n",
        "df_knnithmeans.head()"
      ],
      "execution_count": 34,
      "outputs": [
        {
          "output_type": "execute_result",
          "data": {
            "text/html": [
              "<div>\n",
              "<style scoped>\n",
              "    .dataframe tbody tr th:only-of-type {\n",
              "        vertical-align: middle;\n",
              "    }\n",
              "\n",
              "    .dataframe tbody tr th {\n",
              "        vertical-align: top;\n",
              "    }\n",
              "\n",
              "    .dataframe thead th {\n",
              "        text-align: right;\n",
              "    }\n",
              "</style>\n",
              "<table border=\"1\" class=\"dataframe\">\n",
              "  <thead>\n",
              "    <tr style=\"text-align: right;\">\n",
              "      <th></th>\n",
              "      <th>uid</th>\n",
              "      <th>iid</th>\n",
              "      <th>rui</th>\n",
              "      <th>est</th>\n",
              "      <th>details</th>\n",
              "      <th>err</th>\n",
              "    </tr>\n",
              "  </thead>\n",
              "  <tbody>\n",
              "    <tr>\n",
              "      <th>0</th>\n",
              "      <td>U1040</td>\n",
              "      <td>134999</td>\n",
              "      <td>1.0</td>\n",
              "      <td>0.983333</td>\n",
              "      <td>{'actual_k': 2, 'was_impossible': False}</td>\n",
              "      <td>0.016667</td>\n",
              "    </tr>\n",
              "    <tr>\n",
              "      <th>1</th>\n",
              "      <td>U1032</td>\n",
              "      <td>135042</td>\n",
              "      <td>0.0</td>\n",
              "      <td>1.239111</td>\n",
              "      <td>{'actual_k': 12, 'was_impossible': False}</td>\n",
              "      <td>1.239111</td>\n",
              "    </tr>\n",
              "    <tr>\n",
              "      <th>2</th>\n",
              "      <td>U1061</td>\n",
              "      <td>135058</td>\n",
              "      <td>1.0</td>\n",
              "      <td>1.420927</td>\n",
              "      <td>{'actual_k': 9, 'was_impossible': False}</td>\n",
              "      <td>0.420927</td>\n",
              "    </tr>\n",
              "    <tr>\n",
              "      <th>3</th>\n",
              "      <td>U1118</td>\n",
              "      <td>134992</td>\n",
              "      <td>0.0</td>\n",
              "      <td>0.000000</td>\n",
              "      <td>{'actual_k': 2, 'was_impossible': False}</td>\n",
              "      <td>0.000000</td>\n",
              "    </tr>\n",
              "    <tr>\n",
              "      <th>4</th>\n",
              "      <td>U1019</td>\n",
              "      <td>132856</td>\n",
              "      <td>0.0</td>\n",
              "      <td>0.000000</td>\n",
              "      <td>{'actual_k': 11, 'was_impossible': False}</td>\n",
              "      <td>0.000000</td>\n",
              "    </tr>\n",
              "  </tbody>\n",
              "</table>\n",
              "</div>"
            ],
            "text/plain": [
              "     uid     iid  ...                                    details       err\n",
              "0  U1040  134999  ...   {'actual_k': 2, 'was_impossible': False}  0.016667\n",
              "1  U1032  135042  ...  {'actual_k': 12, 'was_impossible': False}  1.239111\n",
              "2  U1061  135058  ...   {'actual_k': 9, 'was_impossible': False}  0.420927\n",
              "3  U1118  134992  ...   {'actual_k': 2, 'was_impossible': False}  0.000000\n",
              "4  U1019  132856  ...  {'actual_k': 11, 'was_impossible': False}  0.000000\n",
              "\n",
              "[5 rows x 6 columns]"
            ]
          },
          "metadata": {
            "tags": []
          },
          "execution_count": 34
        }
      ]
    },
    {
      "cell_type": "markdown",
      "metadata": {
        "id": "u-uVpImsbzpj",
        "colab_type": "text"
      },
      "source": [
        "### SVDpp"
      ]
    },
    {
      "cell_type": "code",
      "metadata": {
        "id": "9ITXJbTgbzFR",
        "colab_type": "code",
        "outputId": "bf024b43-ea71-4922-fa85-383927782f5b",
        "colab": {
          "base_uri": "https://localhost:8080/",
          "height": 104
        }
      },
      "source": [
        "my_seed = 114\n",
        "random.seed(my_seed)\n",
        "np.random.seed(my_seed)\n",
        "\n",
        "for trainset, testset in kf.split(data):\n",
        "\n",
        "    # train and test algorithm with SVDpp.\n",
        "    algo_svdpp.fit(trainset)\n",
        "    predictions_svdpp = algo_svdpp.test(testset)\n",
        "    # Compute and print Root Mean Squared Error\n",
        "    accuracy.rmse(predictions_svdpp, verbose=True)\n",
        "    # Dump the prediction into dataframe\n",
        "    dump.dump('./dump_SVDpp', predictions_svdpp, algo_svdpp)\n"
      ],
      "execution_count": 35,
      "outputs": [
        {
          "output_type": "stream",
          "text": [
            "RMSE: 0.6750\n",
            "RMSE: 0.6388\n",
            "RMSE: 0.6159\n",
            "RMSE: 0.6670\n",
            "RMSE: 0.6677\n"
          ],
          "name": "stdout"
        }
      ]
    },
    {
      "cell_type": "code",
      "metadata": {
        "id": "ZfXwmnWJcB8f",
        "colab_type": "code",
        "outputId": "6d06b09d-cfc6-4bec-9ae5-d0529f882631",
        "colab": {
          "base_uri": "https://localhost:8080/",
          "height": 34
        }
      },
      "source": [
        "\n",
        "print(\"Average RMSE of the CV is: \", np.mean(accuracy.rmse(predictions_svdpp, verbose=False)))"
      ],
      "execution_count": 36,
      "outputs": [
        {
          "output_type": "stream",
          "text": [
            "Average RMSE of the CV is:  0.667695280346118\n"
          ],
          "name": "stdout"
        }
      ]
    },
    {
      "cell_type": "markdown",
      "metadata": {
        "id": "D6xp2Z8_QDbQ",
        "colab_type": "text"
      },
      "source": [
        "Create DataFrame of SVDpp Reuslts"
      ]
    },
    {
      "cell_type": "code",
      "metadata": {
        "id": "eHkK1tefcCFO",
        "colab_type": "code",
        "colab": {}
      },
      "source": [
        "# Load the dump file\n",
        "predictions_svdpp, algo_svdpp = dump.load('./dump_SVDpp')"
      ],
      "execution_count": 0,
      "outputs": []
    },
    {
      "cell_type": "code",
      "metadata": {
        "id": "WQLoOCR7cCIj",
        "colab_type": "code",
        "colab": {
          "base_uri": "https://localhost:8080/",
          "height": 202
        },
        "outputId": "2adf7197-3109-449c-ea27-e6f7d55fdcd1"
      },
      "source": [
        "df_svdpp = pd.DataFrame(predictions_svdpp, columns=['uid', 'iid', 'rui', 'est', 'details'])  \n",
        "df_svdpp.head()"
      ],
      "execution_count": 38,
      "outputs": [
        {
          "output_type": "execute_result",
          "data": {
            "text/html": [
              "<div>\n",
              "<style scoped>\n",
              "    .dataframe tbody tr th:only-of-type {\n",
              "        vertical-align: middle;\n",
              "    }\n",
              "\n",
              "    .dataframe tbody tr th {\n",
              "        vertical-align: top;\n",
              "    }\n",
              "\n",
              "    .dataframe thead th {\n",
              "        text-align: right;\n",
              "    }\n",
              "</style>\n",
              "<table border=\"1\" class=\"dataframe\">\n",
              "  <thead>\n",
              "    <tr style=\"text-align: right;\">\n",
              "      <th></th>\n",
              "      <th>uid</th>\n",
              "      <th>iid</th>\n",
              "      <th>rui</th>\n",
              "      <th>est</th>\n",
              "      <th>details</th>\n",
              "    </tr>\n",
              "  </thead>\n",
              "  <tbody>\n",
              "    <tr>\n",
              "      <th>0</th>\n",
              "      <td>U1040</td>\n",
              "      <td>134999</td>\n",
              "      <td>1.0</td>\n",
              "      <td>1.215454</td>\n",
              "      <td>{'was_impossible': False}</td>\n",
              "    </tr>\n",
              "    <tr>\n",
              "      <th>1</th>\n",
              "      <td>U1032</td>\n",
              "      <td>135042</td>\n",
              "      <td>0.0</td>\n",
              "      <td>1.300336</td>\n",
              "      <td>{'was_impossible': False}</td>\n",
              "    </tr>\n",
              "    <tr>\n",
              "      <th>2</th>\n",
              "      <td>U1061</td>\n",
              "      <td>135058</td>\n",
              "      <td>1.0</td>\n",
              "      <td>1.388325</td>\n",
              "      <td>{'was_impossible': False}</td>\n",
              "    </tr>\n",
              "    <tr>\n",
              "      <th>3</th>\n",
              "      <td>U1118</td>\n",
              "      <td>134992</td>\n",
              "      <td>0.0</td>\n",
              "      <td>0.758690</td>\n",
              "      <td>{'was_impossible': False}</td>\n",
              "    </tr>\n",
              "    <tr>\n",
              "      <th>4</th>\n",
              "      <td>U1019</td>\n",
              "      <td>132856</td>\n",
              "      <td>0.0</td>\n",
              "      <td>0.232720</td>\n",
              "      <td>{'was_impossible': False}</td>\n",
              "    </tr>\n",
              "  </tbody>\n",
              "</table>\n",
              "</div>"
            ],
            "text/plain": [
              "     uid     iid  rui       est                    details\n",
              "0  U1040  134999  1.0  1.215454  {'was_impossible': False}\n",
              "1  U1032  135042  0.0  1.300336  {'was_impossible': False}\n",
              "2  U1061  135058  1.0  1.388325  {'was_impossible': False}\n",
              "3  U1118  134992  0.0  0.758690  {'was_impossible': False}\n",
              "4  U1019  132856  0.0  0.232720  {'was_impossible': False}"
            ]
          },
          "metadata": {
            "tags": []
          },
          "execution_count": 38
        }
      ]
    },
    {
      "cell_type": "code",
      "metadata": {
        "colab_type": "code",
        "id": "Y9Vy00suXk2w",
        "colab": {
          "base_uri": "https://localhost:8080/",
          "height": 202
        },
        "outputId": "857c2da2-f3d1-47ff-d2a5-ba68764ac7b4"
      },
      "source": [
        "\n",
        "df_svdpp['err'] = abs(df_svdpp.est - df_svdpp.rui)\n",
        "df_svdpp.head()"
      ],
      "execution_count": 39,
      "outputs": [
        {
          "output_type": "execute_result",
          "data": {
            "text/html": [
              "<div>\n",
              "<style scoped>\n",
              "    .dataframe tbody tr th:only-of-type {\n",
              "        vertical-align: middle;\n",
              "    }\n",
              "\n",
              "    .dataframe tbody tr th {\n",
              "        vertical-align: top;\n",
              "    }\n",
              "\n",
              "    .dataframe thead th {\n",
              "        text-align: right;\n",
              "    }\n",
              "</style>\n",
              "<table border=\"1\" class=\"dataframe\">\n",
              "  <thead>\n",
              "    <tr style=\"text-align: right;\">\n",
              "      <th></th>\n",
              "      <th>uid</th>\n",
              "      <th>iid</th>\n",
              "      <th>rui</th>\n",
              "      <th>est</th>\n",
              "      <th>details</th>\n",
              "      <th>err</th>\n",
              "    </tr>\n",
              "  </thead>\n",
              "  <tbody>\n",
              "    <tr>\n",
              "      <th>0</th>\n",
              "      <td>U1040</td>\n",
              "      <td>134999</td>\n",
              "      <td>1.0</td>\n",
              "      <td>1.215454</td>\n",
              "      <td>{'was_impossible': False}</td>\n",
              "      <td>0.215454</td>\n",
              "    </tr>\n",
              "    <tr>\n",
              "      <th>1</th>\n",
              "      <td>U1032</td>\n",
              "      <td>135042</td>\n",
              "      <td>0.0</td>\n",
              "      <td>1.300336</td>\n",
              "      <td>{'was_impossible': False}</td>\n",
              "      <td>1.300336</td>\n",
              "    </tr>\n",
              "    <tr>\n",
              "      <th>2</th>\n",
              "      <td>U1061</td>\n",
              "      <td>135058</td>\n",
              "      <td>1.0</td>\n",
              "      <td>1.388325</td>\n",
              "      <td>{'was_impossible': False}</td>\n",
              "      <td>0.388325</td>\n",
              "    </tr>\n",
              "    <tr>\n",
              "      <th>3</th>\n",
              "      <td>U1118</td>\n",
              "      <td>134992</td>\n",
              "      <td>0.0</td>\n",
              "      <td>0.758690</td>\n",
              "      <td>{'was_impossible': False}</td>\n",
              "      <td>0.758690</td>\n",
              "    </tr>\n",
              "    <tr>\n",
              "      <th>4</th>\n",
              "      <td>U1019</td>\n",
              "      <td>132856</td>\n",
              "      <td>0.0</td>\n",
              "      <td>0.232720</td>\n",
              "      <td>{'was_impossible': False}</td>\n",
              "      <td>0.232720</td>\n",
              "    </tr>\n",
              "  </tbody>\n",
              "</table>\n",
              "</div>"
            ],
            "text/plain": [
              "     uid     iid  rui       est                    details       err\n",
              "0  U1040  134999  1.0  1.215454  {'was_impossible': False}  0.215454\n",
              "1  U1032  135042  0.0  1.300336  {'was_impossible': False}  1.300336\n",
              "2  U1061  135058  1.0  1.388325  {'was_impossible': False}  0.388325\n",
              "3  U1118  134992  0.0  0.758690  {'was_impossible': False}  0.758690\n",
              "4  U1019  132856  0.0  0.232720  {'was_impossible': False}  0.232720"
            ]
          },
          "metadata": {
            "tags": []
          },
          "execution_count": 39
        }
      ]
    },
    {
      "cell_type": "markdown",
      "metadata": {
        "id": "xLHxz-_MVT1n",
        "colab_type": "text"
      },
      "source": [
        "### Algorithm Comparison and Interpretations"
      ]
    },
    {
      "cell_type": "code",
      "metadata": {
        "id": "nJNVuJjUc2-A",
        "colab_type": "code",
        "colab": {
          "base_uri": "https://localhost:8080/",
          "height": 356
        },
        "outputId": "ea3b4145-17ec-4398-eb38-f3c10602e8e6"
      },
      "source": [
        "# 10 Worst predictions for KNNwithMeans\n",
        "df_knnithmeans.sort_values(by='err')[-10:]"
      ],
      "execution_count": 40,
      "outputs": [
        {
          "output_type": "execute_result",
          "data": {
            "text/html": [
              "<div>\n",
              "<style scoped>\n",
              "    .dataframe tbody tr th:only-of-type {\n",
              "        vertical-align: middle;\n",
              "    }\n",
              "\n",
              "    .dataframe tbody tr th {\n",
              "        vertical-align: top;\n",
              "    }\n",
              "\n",
              "    .dataframe thead th {\n",
              "        text-align: right;\n",
              "    }\n",
              "</style>\n",
              "<table border=\"1\" class=\"dataframe\">\n",
              "  <thead>\n",
              "    <tr style=\"text-align: right;\">\n",
              "      <th></th>\n",
              "      <th>uid</th>\n",
              "      <th>iid</th>\n",
              "      <th>rui</th>\n",
              "      <th>est</th>\n",
              "      <th>details</th>\n",
              "      <th>err</th>\n",
              "    </tr>\n",
              "  </thead>\n",
              "  <tbody>\n",
              "    <tr>\n",
              "      <th>210</th>\n",
              "      <td>U1115</td>\n",
              "      <td>135054</td>\n",
              "      <td>0.0</td>\n",
              "      <td>1.644838</td>\n",
              "      <td>{'actual_k': 8, 'was_impossible': False}</td>\n",
              "      <td>1.644838</td>\n",
              "    </tr>\n",
              "    <tr>\n",
              "      <th>38</th>\n",
              "      <td>U1015</td>\n",
              "      <td>132866</td>\n",
              "      <td>0.0</td>\n",
              "      <td>1.711111</td>\n",
              "      <td>{'actual_k': 4, 'was_impossible': False}</td>\n",
              "      <td>1.711111</td>\n",
              "    </tr>\n",
              "    <tr>\n",
              "      <th>80</th>\n",
              "      <td>U1134</td>\n",
              "      <td>135026</td>\n",
              "      <td>0.0</td>\n",
              "      <td>1.711875</td>\n",
              "      <td>{'actual_k': 6, 'was_impossible': False}</td>\n",
              "      <td>1.711875</td>\n",
              "    </tr>\n",
              "    <tr>\n",
              "      <th>113</th>\n",
              "      <td>U1036</td>\n",
              "      <td>135065</td>\n",
              "      <td>0.0</td>\n",
              "      <td>1.757241</td>\n",
              "      <td>{'actual_k': 6, 'was_impossible': False}</td>\n",
              "      <td>1.757241</td>\n",
              "    </tr>\n",
              "    <tr>\n",
              "      <th>205</th>\n",
              "      <td>U1030</td>\n",
              "      <td>135016</td>\n",
              "      <td>0.0</td>\n",
              "      <td>1.833333</td>\n",
              "      <td>{'actual_k': 1, 'was_impossible': False}</td>\n",
              "      <td>1.833333</td>\n",
              "    </tr>\n",
              "    <tr>\n",
              "      <th>43</th>\n",
              "      <td>U1048</td>\n",
              "      <td>135048</td>\n",
              "      <td>0.0</td>\n",
              "      <td>1.839773</td>\n",
              "      <td>{'actual_k': 2, 'was_impossible': False}</td>\n",
              "      <td>1.839773</td>\n",
              "    </tr>\n",
              "    <tr>\n",
              "      <th>41</th>\n",
              "      <td>U1023</td>\n",
              "      <td>132733</td>\n",
              "      <td>2.0</td>\n",
              "      <td>0.151786</td>\n",
              "      <td>{'actual_k': 3, 'was_impossible': False}</td>\n",
              "      <td>1.848214</td>\n",
              "    </tr>\n",
              "    <tr>\n",
              "      <th>175</th>\n",
              "      <td>U1014</td>\n",
              "      <td>135082</td>\n",
              "      <td>0.0</td>\n",
              "      <td>1.884457</td>\n",
              "      <td>{'actual_k': 5, 'was_impossible': False}</td>\n",
              "      <td>1.884457</td>\n",
              "    </tr>\n",
              "    <tr>\n",
              "      <th>59</th>\n",
              "      <td>U1118</td>\n",
              "      <td>135021</td>\n",
              "      <td>2.0</td>\n",
              "      <td>0.000000</td>\n",
              "      <td>{'actual_k': 4, 'was_impossible': False}</td>\n",
              "      <td>2.000000</td>\n",
              "    </tr>\n",
              "    <tr>\n",
              "      <th>142</th>\n",
              "      <td>U1116</td>\n",
              "      <td>135059</td>\n",
              "      <td>0.0</td>\n",
              "      <td>2.000000</td>\n",
              "      <td>{'actual_k': 7, 'was_impossible': False}</td>\n",
              "      <td>2.000000</td>\n",
              "    </tr>\n",
              "  </tbody>\n",
              "</table>\n",
              "</div>"
            ],
            "text/plain": [
              "       uid     iid  ...                                   details       err\n",
              "210  U1115  135054  ...  {'actual_k': 8, 'was_impossible': False}  1.644838\n",
              "38   U1015  132866  ...  {'actual_k': 4, 'was_impossible': False}  1.711111\n",
              "80   U1134  135026  ...  {'actual_k': 6, 'was_impossible': False}  1.711875\n",
              "113  U1036  135065  ...  {'actual_k': 6, 'was_impossible': False}  1.757241\n",
              "205  U1030  135016  ...  {'actual_k': 1, 'was_impossible': False}  1.833333\n",
              "43   U1048  135048  ...  {'actual_k': 2, 'was_impossible': False}  1.839773\n",
              "41   U1023  132733  ...  {'actual_k': 3, 'was_impossible': False}  1.848214\n",
              "175  U1014  135082  ...  {'actual_k': 5, 'was_impossible': False}  1.884457\n",
              "59   U1118  135021  ...  {'actual_k': 4, 'was_impossible': False}  2.000000\n",
              "142  U1116  135059  ...  {'actual_k': 7, 'was_impossible': False}  2.000000\n",
              "\n",
              "[10 rows x 6 columns]"
            ]
          },
          "metadata": {
            "tags": []
          },
          "execution_count": 40
        }
      ]
    },
    {
      "cell_type": "code",
      "metadata": {
        "id": "Mn0ht_QBRTeR",
        "colab_type": "code",
        "colab": {
          "base_uri": "https://localhost:8080/",
          "height": 356
        },
        "outputId": "d3ecb96f-82a6-4acf-f44e-3f97576ac5dd"
      },
      "source": [
        "# 10 Worst predictions for SVDpp\n",
        "df_svdpp.sort_values(by='err')[-10:]"
      ],
      "execution_count": 41,
      "outputs": [
        {
          "output_type": "execute_result",
          "data": {
            "text/html": [
              "<div>\n",
              "<style scoped>\n",
              "    .dataframe tbody tr th:only-of-type {\n",
              "        vertical-align: middle;\n",
              "    }\n",
              "\n",
              "    .dataframe tbody tr th {\n",
              "        vertical-align: top;\n",
              "    }\n",
              "\n",
              "    .dataframe thead th {\n",
              "        text-align: right;\n",
              "    }\n",
              "</style>\n",
              "<table border=\"1\" class=\"dataframe\">\n",
              "  <thead>\n",
              "    <tr style=\"text-align: right;\">\n",
              "      <th></th>\n",
              "      <th>uid</th>\n",
              "      <th>iid</th>\n",
              "      <th>rui</th>\n",
              "      <th>est</th>\n",
              "      <th>details</th>\n",
              "      <th>err</th>\n",
              "    </tr>\n",
              "  </thead>\n",
              "  <tbody>\n",
              "    <tr>\n",
              "      <th>194</th>\n",
              "      <td>U1027</td>\n",
              "      <td>135066</td>\n",
              "      <td>0.0</td>\n",
              "      <td>1.260576</td>\n",
              "      <td>{'was_impossible': False}</td>\n",
              "      <td>1.260576</td>\n",
              "    </tr>\n",
              "    <tr>\n",
              "      <th>1</th>\n",
              "      <td>U1032</td>\n",
              "      <td>135042</td>\n",
              "      <td>0.0</td>\n",
              "      <td>1.300336</td>\n",
              "      <td>{'was_impossible': False}</td>\n",
              "      <td>1.300336</td>\n",
              "    </tr>\n",
              "    <tr>\n",
              "      <th>97</th>\n",
              "      <td>U1005</td>\n",
              "      <td>135043</td>\n",
              "      <td>0.0</td>\n",
              "      <td>1.308369</td>\n",
              "      <td>{'was_impossible': False}</td>\n",
              "      <td>1.308369</td>\n",
              "    </tr>\n",
              "    <tr>\n",
              "      <th>175</th>\n",
              "      <td>U1014</td>\n",
              "      <td>135082</td>\n",
              "      <td>0.0</td>\n",
              "      <td>1.341835</td>\n",
              "      <td>{'was_impossible': False}</td>\n",
              "      <td>1.341835</td>\n",
              "    </tr>\n",
              "    <tr>\n",
              "      <th>210</th>\n",
              "      <td>U1115</td>\n",
              "      <td>135054</td>\n",
              "      <td>0.0</td>\n",
              "      <td>1.381919</td>\n",
              "      <td>{'was_impossible': False}</td>\n",
              "      <td>1.381919</td>\n",
              "    </tr>\n",
              "    <tr>\n",
              "      <th>43</th>\n",
              "      <td>U1048</td>\n",
              "      <td>135048</td>\n",
              "      <td>0.0</td>\n",
              "      <td>1.396731</td>\n",
              "      <td>{'was_impossible': False}</td>\n",
              "      <td>1.396731</td>\n",
              "    </tr>\n",
              "    <tr>\n",
              "      <th>38</th>\n",
              "      <td>U1015</td>\n",
              "      <td>132866</td>\n",
              "      <td>0.0</td>\n",
              "      <td>1.413020</td>\n",
              "      <td>{'was_impossible': False}</td>\n",
              "      <td>1.413020</td>\n",
              "    </tr>\n",
              "    <tr>\n",
              "      <th>80</th>\n",
              "      <td>U1134</td>\n",
              "      <td>135026</td>\n",
              "      <td>0.0</td>\n",
              "      <td>1.591442</td>\n",
              "      <td>{'was_impossible': False}</td>\n",
              "      <td>1.591442</td>\n",
              "    </tr>\n",
              "    <tr>\n",
              "      <th>113</th>\n",
              "      <td>U1036</td>\n",
              "      <td>135065</td>\n",
              "      <td>0.0</td>\n",
              "      <td>1.686855</td>\n",
              "      <td>{'was_impossible': False}</td>\n",
              "      <td>1.686855</td>\n",
              "    </tr>\n",
              "    <tr>\n",
              "      <th>142</th>\n",
              "      <td>U1116</td>\n",
              "      <td>135059</td>\n",
              "      <td>0.0</td>\n",
              "      <td>1.794109</td>\n",
              "      <td>{'was_impossible': False}</td>\n",
              "      <td>1.794109</td>\n",
              "    </tr>\n",
              "  </tbody>\n",
              "</table>\n",
              "</div>"
            ],
            "text/plain": [
              "       uid     iid  rui       est                    details       err\n",
              "194  U1027  135066  0.0  1.260576  {'was_impossible': False}  1.260576\n",
              "1    U1032  135042  0.0  1.300336  {'was_impossible': False}  1.300336\n",
              "97   U1005  135043  0.0  1.308369  {'was_impossible': False}  1.308369\n",
              "175  U1014  135082  0.0  1.341835  {'was_impossible': False}  1.341835\n",
              "210  U1115  135054  0.0  1.381919  {'was_impossible': False}  1.381919\n",
              "43   U1048  135048  0.0  1.396731  {'was_impossible': False}  1.396731\n",
              "38   U1015  132866  0.0  1.413020  {'was_impossible': False}  1.413020\n",
              "80   U1134  135026  0.0  1.591442  {'was_impossible': False}  1.591442\n",
              "113  U1036  135065  0.0  1.686855  {'was_impossible': False}  1.686855\n",
              "142  U1116  135059  0.0  1.794109  {'was_impossible': False}  1.794109"
            ]
          },
          "metadata": {
            "tags": []
          },
          "execution_count": 41
        }
      ]
    },
    {
      "cell_type": "code",
      "metadata": {
        "id": "-LJoslRsRVYU",
        "colab_type": "code",
        "colab": {
          "base_uri": "https://localhost:8080/",
          "height": 513
        },
        "outputId": "44bdaad5-543f-4bed-934f-5d901eff2968"
      },
      "source": [
        "fig, ax = plt.subplots(1,2, figsize=(10,8))\n",
        "sns.distplot(df_svdpp.err, ax=ax[0])\n",
        "sns.distplot(df_knnithmeans.err, ax=ax[1])\n",
        "ax[0].set_title('SVDpp')\n",
        "ax[1].set_title('KNNwithMeans')\n",
        "plt.savefig('comparison.png')\n",
        "plt.show()"
      ],
      "execution_count": 42,
      "outputs": [
        {
          "output_type": "display_data",
          "data": {
            "image/png": "[encoded data removed]",
            "text/plain": [
              "<Figure size 720x576 with 2 Axes>"
            ]
          },
          "metadata": {
            "tags": []
          }
        }
      ]
    },
    {
      "cell_type": "markdown",
      "metadata": {
        "id": "Y9QvHCGTRVWQ",
        "colab_type": "text"
      },
      "source": [
        "* It seems both algorithms are right-skewed. and have higher predictions around zero. So what happens when a user has a smaller number of ratings. Remember we had a mean rating of 1.19. Let us say users with Rating less than 5"
      ]
    },
    {
      "cell_type": "code",
      "metadata": {
        "id": "o7kETzatRVUT",
        "colab_type": "code",
        "colab": {
          "base_uri": "https://localhost:8080/",
          "height": 34
        },
        "outputId": "4e0f57a4-8857-4fdb-81ee-0ee0f8cc181e"
      },
      "source": [
        "\n",
        "\n",
        "def get_Iu(uid):\n",
        "    \"\"\"Return the number of items rated by given user\n",
        "    \n",
        "    Args:\n",
        "        uid: The raw id of the user.\n",
        "    Returns:\n",
        "        The number of items rated by the user.\n",
        "    \"\"\"\n",
        "    \n",
        "    try:\n",
        "        return len(trainset.ur[trainset.to_inner_uid(uid)])\n",
        "    except ValueError:  # user was not part of the trainset\n",
        "        return 0\n",
        "    \n",
        "df_knnithmeans['Iu'] = df_knnithmeans.uid.apply(get_Iu)\n",
        "df_svdpp['Iu'] = df_svdpp.uid.apply(get_Iu)\n",
        "\n",
        "df_knnithmeans[df_knnithmeans.Iu < 5].err.mean(), df_svdpp[df_svdpp.Iu < 5].err.mean()"
      ],
      "execution_count": 43,
      "outputs": [
        {
          "output_type": "execute_result",
          "data": {
            "text/plain": [
              "(0.5104404961856474, 0.580852352863545)"
            ]
          },
          "metadata": {
            "tags": []
          },
          "execution_count": 43
        }
      ]
    },
    {
      "cell_type": "markdown",
      "metadata": {
        "id": "Ak0KoIPfRLXz",
        "colab_type": "text"
      },
      "source": [
        "* It seems that KNNwithMeans is doing better in this case than svdpp"
      ]
    },
    {
      "cell_type": "markdown",
      "metadata": {
        "id": "SQwcpoRqX8Ac",
        "colab_type": "text"
      },
      "source": [
        "## Location Based Recommenders"
      ]
    },
    {
      "cell_type": "code",
      "metadata": {
        "id": "9VBqCxgNqtgH",
        "colab_type": "code",
        "colab": {
          "base_uri": "https://localhost:8080/",
          "height": 34
        },
        "outputId": "da0da990-757a-4224-e10f-d49fbfddf0fa"
      },
      "source": [
        "kmeans = KMeans(n_clusters=24, init='k-means++')\n",
        "\n",
        "\n",
        "X = df[['longitude','latitude']]\n",
        "kmeans.fit(X)\n",
        "y = kmeans.labels_\n",
        "print(\"k = 24\", \" silhouette_score \", silhouette_score(X, y, metric='euclidean'))"
      ],
      "execution_count": 44,
      "outputs": [
        {
          "output_type": "stream",
          "text": [
            "k = 24  silhouette_score  0.5407455582206437\n"
          ],
          "name": "stdout"
        }
      ]
    },
    {
      "cell_type": "code",
      "metadata": {
        "id": "psMoTAoyrS7j",
        "colab_type": "code",
        "colab": {
          "base_uri": "https://localhost:8080/",
          "height": 356
        },
        "outputId": "05b25309-26e1-425c-8414-550d07b6115f"
      },
      "source": [
        "df['cluster'] = kmeans.predict(df[['longitude','latitude']])\n",
        "df[['userID','latitude','longitude','placeID','cluster']].sample(10)"
      ],
      "execution_count": 45,
      "outputs": [
        {
          "output_type": "execute_result",
          "data": {
            "text/html": [
              "<div>\n",
              "<style scoped>\n",
              "    .dataframe tbody tr th:only-of-type {\n",
              "        vertical-align: middle;\n",
              "    }\n",
              "\n",
              "    .dataframe tbody tr th {\n",
              "        vertical-align: top;\n",
              "    }\n",
              "\n",
              "    .dataframe thead th {\n",
              "        text-align: right;\n",
              "    }\n",
              "</style>\n",
              "<table border=\"1\" class=\"dataframe\">\n",
              "  <thead>\n",
              "    <tr style=\"text-align: right;\">\n",
              "      <th></th>\n",
              "      <th>userID</th>\n",
              "      <th>latitude</th>\n",
              "      <th>longitude</th>\n",
              "      <th>placeID</th>\n",
              "      <th>cluster</th>\n",
              "    </tr>\n",
              "  </thead>\n",
              "  <tbody>\n",
              "    <tr>\n",
              "      <th>96</th>\n",
              "      <td>U1022</td>\n",
              "      <td>22.156883</td>\n",
              "      <td>-100.978485</td>\n",
              "      <td>135060</td>\n",
              "      <td>21</td>\n",
              "    </tr>\n",
              "    <tr>\n",
              "      <th>802</th>\n",
              "      <td>U1005</td>\n",
              "      <td>22.151060</td>\n",
              "      <td>-100.977659</td>\n",
              "      <td>135041</td>\n",
              "      <td>3</td>\n",
              "    </tr>\n",
              "    <tr>\n",
              "      <th>109</th>\n",
              "      <td>U1098</td>\n",
              "      <td>22.156883</td>\n",
              "      <td>-100.978485</td>\n",
              "      <td>135060</td>\n",
              "      <td>21</td>\n",
              "    </tr>\n",
              "    <tr>\n",
              "      <th>669</th>\n",
              "      <td>U1126</td>\n",
              "      <td>22.140129</td>\n",
              "      <td>-100.944872</td>\n",
              "      <td>135069</td>\n",
              "      <td>8</td>\n",
              "    </tr>\n",
              "    <tr>\n",
              "      <th>859</th>\n",
              "      <td>U1009</td>\n",
              "      <td>22.145108</td>\n",
              "      <td>-100.989547</td>\n",
              "      <td>135059</td>\n",
              "      <td>12</td>\n",
              "    </tr>\n",
              "    <tr>\n",
              "      <th>484</th>\n",
              "      <td>U1065</td>\n",
              "      <td>23.726819</td>\n",
              "      <td>-99.126506</td>\n",
              "      <td>132561</td>\n",
              "      <td>10</td>\n",
              "    </tr>\n",
              "    <tr>\n",
              "      <th>228</th>\n",
              "      <td>U1011</td>\n",
              "      <td>23.730925</td>\n",
              "      <td>-99.145185</td>\n",
              "      <td>132564</td>\n",
              "      <td>23</td>\n",
              "    </tr>\n",
              "    <tr>\n",
              "      <th>645</th>\n",
              "      <td>U1056</td>\n",
              "      <td>22.153703</td>\n",
              "      <td>-100.979033</td>\n",
              "      <td>135062</td>\n",
              "      <td>21</td>\n",
              "    </tr>\n",
              "    <tr>\n",
              "      <th>768</th>\n",
              "      <td>U1019</td>\n",
              "      <td>22.150849</td>\n",
              "      <td>-100.939752</td>\n",
              "      <td>132830</td>\n",
              "      <td>8</td>\n",
              "    </tr>\n",
              "    <tr>\n",
              "      <th>1053</th>\n",
              "      <td>U1052</td>\n",
              "      <td>22.141238</td>\n",
              "      <td>-100.923925</td>\n",
              "      <td>132869</td>\n",
              "      <td>4</td>\n",
              "    </tr>\n",
              "  </tbody>\n",
              "</table>\n",
              "</div>"
            ],
            "text/plain": [
              "     userID   latitude   longitude  placeID  cluster\n",
              "96    U1022  22.156883 -100.978485   135060       21\n",
              "802   U1005  22.151060 -100.977659   135041        3\n",
              "109   U1098  22.156883 -100.978485   135060       21\n",
              "669   U1126  22.140129 -100.944872   135069        8\n",
              "859   U1009  22.145108 -100.989547   135059       12\n",
              "484   U1065  23.726819  -99.126506   132561       10\n",
              "228   U1011  23.730925  -99.145185   132564       23\n",
              "645   U1056  22.153703 -100.979033   135062       21\n",
              "768   U1019  22.150849 -100.939752   132830        8\n",
              "1053  U1052  22.141238 -100.923925   132869        4"
            ]
          },
          "metadata": {
            "tags": []
          },
          "execution_count": 45
        }
      ]
    },
    {
      "cell_type": "code",
      "metadata": {
        "id": "bpJqxb6nujnq",
        "colab_type": "code",
        "colab": {}
      },
      "source": [
        "topvenues_df = df.sort_values(by=['rating', 'food_rating',\t'service_rating'], ascending=False)\n"
      ],
      "execution_count": 0,
      "outputs": []
    },
    {
      "cell_type": "code",
      "metadata": {
        "id": "Hck6XZVZv_Xx",
        "colab_type": "code",
        "colab": {}
      },
      "source": [
        "def recommend_restaurants(df, longitude, latitude):\n",
        "    # Predict the cluster for longitude and latitude provided\n",
        "    cluster = kmeans.predict(np.array([longitude,latitude]).reshape(1,-1))[0]\n",
        "   \n",
        "    # Get the best restaurant in this cluster\n",
        "    name = df[df['cluster']==cluster].iloc[0]['name']\n",
        "   \n",
        "    print('\"{}\" is recommended'.format(name))\n",
        "   "
      ],
      "execution_count": 0,
      "outputs": []
    },
    {
      "cell_type": "code",
      "metadata": {
        "id": "hLdhoQwB2sFA",
        "colab_type": "code",
        "colab": {}
      },
      "source": [
        "def create_folium_map(df, user_coords, restaurant_name):\n",
        "    m = folium.Map(\n",
        "    location=user_coords,\n",
        "    zoom_start=10,\n",
        "    tiles='Stamen Terrain'\n",
        "    )\n",
        "    \n",
        "    folium.Marker(\n",
        "    location=user_coords,\n",
        "    popup='User Location',\n",
        "    icon=folium.Icon(icon='cloud')\n",
        "    ).add_to(m)\n",
        "    \n",
        "    \n",
        "    folium.Marker(\n",
        "    location=list(df[df['name'] == restaurant_name][['latitude', 'longitude']].iloc[0]),\n",
        "    popup='Restaurant Location',\n",
        "    icon=folium.Icon(color='red', icon='info-sign')\n",
        "    ).add_to(m)\n",
        "    \n",
        "    return m\n",
        "    "
      ],
      "execution_count": 0,
      "outputs": []
    },
    {
      "cell_type": "code",
      "metadata": {
        "id": "A_Zza4M4xO4C",
        "colab_type": "code",
        "colab": {
          "base_uri": "https://localhost:8080/",
          "height": 34
        },
        "outputId": "0355b5f6-93d4-40fa-f80c-c778e34b9a1d"
      },
      "source": [
        "recommend_restaurants(topvenues_df,-99.145185, 23.730925)\n"
      ],
      "execution_count": 49,
      "outputs": [
        {
          "output_type": "stream",
          "text": [
            "\"TACOS EL GUERO\" is recommended\n"
          ],
          "name": "stdout"
        }
      ]
    },
    {
      "cell_type": "code",
      "metadata": {
        "id": "kIppduB7xQ2R",
        "colab_type": "code",
        "colab": {
          "base_uri": "https://localhost:8080/",
          "height": 34
        },
        "outputId": "6b50b25b-ab5f-4a52-c910-c4acecc734ce"
      },
      "source": [
        "recommend_restaurants(topvenues_df, -100.939752, 22.150849)"
      ],
      "execution_count": 50,
      "outputs": [
        {
          "output_type": "stream",
          "text": [
            "\"Rincon Huasteco\" is recommended\n"
          ],
          "name": "stdout"
        }
      ]
    },
    {
      "cell_type": "code",
      "metadata": {
        "id": "zrK9YJ9h5QL2",
        "colab_type": "code",
        "colab": {}
      },
      "source": [
        "user_coords = [22.120849, -100.839752]\n",
        "\n",
        "restaurant_name = \"Rincon Huasteco\""
      ],
      "execution_count": 0,
      "outputs": []
    },
    {
      "cell_type": "code",
      "metadata": {
        "id": "6OnkDsVb4fiF",
        "colab_type": "code",
        "colab": {
          "base_uri": "https://localhost:8080/",
          "height": 688
        },
        "outputId": "efe84a30-47e6-4932-d108-9aee1cf841de"
      },
      "source": [
        "create_folium_map(df, user_coords, restaurant_name)"
      ],
      "execution_count": 52,
      "outputs": [
        {
          "output_type": "execute_result",
          "data": {
            "text/html": [
              "<div style=\"width:100%;\"><div style=\"position:relative;width:100%;height:0;padding-bottom:60%;\"><iframe src=\"data:text/html;charset=utf-8;base64,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\" style=\"position:absolute;width:100%;height:100%;left:0;top:0;border:none !important;\" allowfullscreen webkitallowfullscreen mozallowfullscreen></iframe></div></div>"
            ],
            "text/plain": [
              "<folium.folium.Map at 0x7f281f90fe48>"
            ]
          },
          "metadata": {
            "tags": []
          },
          "execution_count": 52
        }
      ]
    },
    {
      "cell_type": "markdown",
      "metadata": {
        "id": "ToMMp2aY4flt",
        "colab_type": "text"
      },
      "source": [
        "# END"
      ]
    }
  ]
}