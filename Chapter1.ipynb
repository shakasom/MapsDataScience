{
  "nbformat": 4,
  "nbformat_minor": 0,
  "metadata": {
    "colab": {
      "name": "Chapter 1.ipynb",
      "version": "0.3.2",
      "provenance": [],
      "collapsed_sections": [],
      "toc_visible": true,
      "include_colab_link": true
    },
    "kernelspec": {
      "name": "python3",
      "display_name": "Python 3"
    },
    "accelerator": "GPU"
  },
  "cells": [
    {
      "cell_type": "markdown",
      "metadata": {
        "id": "view-in-github",
        "colab_type": "text"
      },
      "source": [
        "<a href=\"https://colab.research.google.com/github/shakasom/MapsDataScience/blob/master/Chapter1.ipynb\" target=\"_parent\"><img src=\"https://colab.research.google.com/assets/colab-badge.svg\" alt=\"Open In Colab\"/></a>"
      ]
    },
    {
      "cell_type": "markdown",
      "metadata": {
        "id": "t2b8ShykIB6u",
        "colab_type": "text"
      },
      "source": [
        "# Introduction to Location Intelligence"
      ]
    },
    {
      "cell_type": "markdown",
      "metadata": {
        "id": "sHNLyloXIEKz",
        "colab_type": "text"
      },
      "source": [
        "## Installations\n",
        "\n",
        "The geospatial libraries are not pre installed in google colab as standard python library, therefore we need to install some libraries to use. Luckily this is an easy process. You can use either apt install or pip install. You can also create anaconda environment, but that is a bit complex so pip and apt are enough in our case to get the libraries we need. These are the libraries we need to install in this tutorial:\n",
        "\n",
        "Gdal\n",
        "Geopandas\n",
        "Folium\n",
        "\n",
        "The installation might take 1 minute.\n"
      ]
    },
    {
      "cell_type": "code",
      "metadata": {
        "id": "Jw4JmvCUIUxn",
        "colab_type": "code",
        "colab": {}
      },
      "source": [
        "%%time \n",
        "!apt update\n",
        "!apt upgrade\n",
        "# Important library for many geopython libraries\n",
        "!apt install gdal-bin python-gdal python3-gdal \n",
        "# Install rtree - Geopandas requirment\n",
        "!apt install python3-rtree \n",
        "# Install Geopandas\n",
        "!pip install git+git://github.com/geopandas/geopandas.git\n",
        "# Install descartes - Geopandas requirment\n",
        "!pip install descartes \n",
        "# Install Folium for Geographic data visualization\n",
        "!pip install folium "
      ],
      "execution_count": 0,
      "outputs": []
    },
    {
      "cell_type": "code",
      "metadata": {
        "id": "wqJFk1rdIcCq",
        "colab_type": "code",
        "colab": {}
      },
      "source": [
        "import pandas as pd\n",
        "import numpy as np\n",
        "import geopandas as gpd\n",
        "from shapely.geometry import Point\n",
        "import matplotlib\n",
        "import matplotlib.pyplot as plt \n",
        "import folium\n",
        "import os\n",
        "import seaborn as sns"
      ],
      "execution_count": 0,
      "outputs": []
    },
    {
      "cell_type": "markdown",
      "metadata": {
        "id": "8iL3ou9AQUsz",
        "colab_type": "text"
      },
      "source": [
        "## Data \n",
        "\n",
        "The dataset for this chapter is stored in the dropbox link. It is a valuable skill to learn how to access data on the web, so we will use WGET. WGET is great utility in accessing files from the web and supports different protocols. "
      ]
    },
    {
      "cell_type": "code",
      "metadata": {
        "id": "mIz9KT5BQY06",
        "colab_type": "code",
        "colab": {}
      },
      "source": [
        "# Get the data from dropbox link\n",
        "!wget https://www.dropbox.com/s/0zytrf2ncoquxgq/Foursquare_2014_NYC.zip"
      ],
      "execution_count": 0,
      "outputs": []
    },
    {
      "cell_type": "code",
      "metadata": {
        "id": "3WYfFdD3Qbpx",
        "colab_type": "code",
        "outputId": "856375ab-abd8-4a2f-bdf0-b9f50d2dfc04",
        "colab": {
          "base_uri": "https://localhost:8080/",
          "height": 35
        }
      },
      "source": [
        "os.listdir(os.getcwd())"
      ],
      "execution_count": 0,
      "outputs": [
        {
          "output_type": "execute_result",
          "data": {
            "text/plain": [
              "['.config', 'Foursquare_2014_NYC.zip', 'sample_data']"
            ]
          },
          "metadata": {
            "tags": []
          },
          "execution_count": 4
        }
      ]
    },
    {
      "cell_type": "code",
      "metadata": {
        "id": "B_ahil49QeNN",
        "colab_type": "code",
        "outputId": "850efbc1-d83d-4b61-e342-e1d65eb0db3b",
        "colab": {
          "base_uri": "https://localhost:8080/",
          "height": 54
        }
      },
      "source": [
        "# We have zipped data so let us unzip it\n",
        "!unzip Foursquare_2014_NYC.zip"
      ],
      "execution_count": 0,
      "outputs": [
        {
          "output_type": "stream",
          "text": [
            "Archive:  Foursquare_2014_NYC.zip\n",
            "  inflating: dataset_TSMC2014_NYC.txt  \n"
          ],
          "name": "stdout"
        }
      ]
    },
    {
      "cell_type": "code",
      "metadata": {
        "id": "Px7fe_CvQgt8",
        "colab_type": "code",
        "outputId": "fa25ca73-3f2d-4feb-c861-33e8522cb166",
        "colab": {
          "base_uri": "https://localhost:8080/",
          "height": 198
        }
      },
      "source": [
        "# Reading the nyc foursquare data\n",
        "\n",
        "# create column names as this comes without headers\n",
        "col_names = ['UserID', 'VenueID', 'VenueCategoryID', 'VenueCategoryName', 'Latitude', 'Longtitude','Timezone', 'UTCtime']\n",
        "\n",
        "# read the csv with pandas. the data comes in tab seperator. \n",
        "nyc = pd.read_csv('dataset_TSMC2014_NYC.txt',names=col_names,sep=\"\\t\",  encoding = \"ISO-8859-1\" )\n",
        "\n",
        "# Look at the first 5 rows\n",
        "nyc.head()"
      ],
      "execution_count": 0,
      "outputs": [
        {
          "output_type": "execute_result",
          "data": {
            "text/html": [
              "<div>\n",
              "<style scoped>\n",
              "    .dataframe tbody tr th:only-of-type {\n",
              "        vertical-align: middle;\n",
              "    }\n",
              "\n",
              "    .dataframe tbody tr th {\n",
              "        vertical-align: top;\n",
              "    }\n",
              "\n",
              "    .dataframe thead th {\n",
              "        text-align: right;\n",
              "    }\n",
              "</style>\n",
              "<table border=\"1\" class=\"dataframe\">\n",
              "  <thead>\n",
              "    <tr style=\"text-align: right;\">\n",
              "      <th></th>\n",
              "      <th>UserID</th>\n",
              "      <th>VenueID</th>\n",
              "      <th>VenueCategoryID</th>\n",
              "      <th>VenueCategoryName</th>\n",
              "      <th>Latitude</th>\n",
              "      <th>Longtitude</th>\n",
              "      <th>Timezone</th>\n",
              "      <th>UTCtime</th>\n",
              "    </tr>\n",
              "  </thead>\n",
              "  <tbody>\n",
              "    <tr>\n",
              "      <th>0</th>\n",
              "      <td>470</td>\n",
              "      <td>49bbd6c0f964a520f4531fe3</td>\n",
              "      <td>4bf58dd8d48988d127951735</td>\n",
              "      <td>Arts &amp; Crafts Store</td>\n",
              "      <td>40.719810</td>\n",
              "      <td>-74.002581</td>\n",
              "      <td>-240</td>\n",
              "      <td>Tue Apr 03 18:00:09 +0000 2012</td>\n",
              "    </tr>\n",
              "    <tr>\n",
              "      <th>1</th>\n",
              "      <td>979</td>\n",
              "      <td>4a43c0aef964a520c6a61fe3</td>\n",
              "      <td>4bf58dd8d48988d1df941735</td>\n",
              "      <td>Bridge</td>\n",
              "      <td>40.606800</td>\n",
              "      <td>-74.044170</td>\n",
              "      <td>-240</td>\n",
              "      <td>Tue Apr 03 18:00:25 +0000 2012</td>\n",
              "    </tr>\n",
              "    <tr>\n",
              "      <th>2</th>\n",
              "      <td>69</td>\n",
              "      <td>4c5cc7b485a1e21e00d35711</td>\n",
              "      <td>4bf58dd8d48988d103941735</td>\n",
              "      <td>Home (private)</td>\n",
              "      <td>40.716162</td>\n",
              "      <td>-73.883070</td>\n",
              "      <td>-240</td>\n",
              "      <td>Tue Apr 03 18:02:24 +0000 2012</td>\n",
              "    </tr>\n",
              "    <tr>\n",
              "      <th>3</th>\n",
              "      <td>395</td>\n",
              "      <td>4bc7086715a7ef3bef9878da</td>\n",
              "      <td>4bf58dd8d48988d104941735</td>\n",
              "      <td>Medical Center</td>\n",
              "      <td>40.745164</td>\n",
              "      <td>-73.982519</td>\n",
              "      <td>-240</td>\n",
              "      <td>Tue Apr 03 18:02:41 +0000 2012</td>\n",
              "    </tr>\n",
              "    <tr>\n",
              "      <th>4</th>\n",
              "      <td>87</td>\n",
              "      <td>4cf2c5321d18a143951b5cec</td>\n",
              "      <td>4bf58dd8d48988d1cb941735</td>\n",
              "      <td>Food Truck</td>\n",
              "      <td>40.740104</td>\n",
              "      <td>-73.989658</td>\n",
              "      <td>-240</td>\n",
              "      <td>Tue Apr 03 18:03:00 +0000 2012</td>\n",
              "    </tr>\n",
              "  </tbody>\n",
              "</table>\n",
              "</div>"
            ],
            "text/plain": [
              "   UserID                   VenueID           VenueCategoryID  \\\n",
              "0     470  49bbd6c0f964a520f4531fe3  4bf58dd8d48988d127951735   \n",
              "1     979  4a43c0aef964a520c6a61fe3  4bf58dd8d48988d1df941735   \n",
              "2      69  4c5cc7b485a1e21e00d35711  4bf58dd8d48988d103941735   \n",
              "3     395  4bc7086715a7ef3bef9878da  4bf58dd8d48988d104941735   \n",
              "4      87  4cf2c5321d18a143951b5cec  4bf58dd8d48988d1cb941735   \n",
              "\n",
              "     VenueCategoryName   Latitude  Longtitude  Timezone  \\\n",
              "0  Arts & Crafts Store  40.719810  -74.002581      -240   \n",
              "1               Bridge  40.606800  -74.044170      -240   \n",
              "2       Home (private)  40.716162  -73.883070      -240   \n",
              "3       Medical Center  40.745164  -73.982519      -240   \n",
              "4           Food Truck  40.740104  -73.989658      -240   \n",
              "\n",
              "                          UTCtime  \n",
              "0  Tue Apr 03 18:00:09 +0000 2012  \n",
              "1  Tue Apr 03 18:00:25 +0000 2012  \n",
              "2  Tue Apr 03 18:02:24 +0000 2012  \n",
              "3  Tue Apr 03 18:02:41 +0000 2012  \n",
              "4  Tue Apr 03 18:03:00 +0000 2012  "
            ]
          },
          "metadata": {
            "tags": []
          },
          "execution_count": 6
        }
      ]
    },
    {
      "cell_type": "code",
      "metadata": {
        "id": "9-_xV8b3Qp1r",
        "colab_type": "code",
        "outputId": "dd5bfc7b-72c6-42a6-d7b2-c6a8975ceb2c",
        "colab": {
          "base_uri": "https://localhost:8080/",
          "height": 35
        }
      },
      "source": [
        "# shape of the data (rows, columns)\n",
        "nyc.shape"
      ],
      "execution_count": 0,
      "outputs": [
        {
          "output_type": "execute_result",
          "data": {
            "text/plain": [
              "(227428, 8)"
            ]
          },
          "metadata": {
            "tags": []
          },
          "execution_count": 7
        }
      ]
    },
    {
      "cell_type": "markdown",
      "metadata": {
        "id": "KDru_ZfvwGF2",
        "colab_type": "text"
      },
      "source": [
        "## Convert to Geographic Data"
      ]
    },
    {
      "cell_type": "code",
      "metadata": {
        "id": "5KXDdsZXwGJG",
        "colab_type": "code",
        "colab": {}
      },
      "source": [
        "# Save the geometry as a new feature\n",
        "geometry = [Point(xy) for xy in zip(nyc['Longtitude'], nyc['Latitude'])]\n",
        "\n",
        "# Create crs dictionary\n",
        "crs = {'init': 'epsg:4326'}"
      ],
      "execution_count": 0,
      "outputs": []
    },
    {
      "cell_type": "code",
      "metadata": {
        "id": "EZ5r7UeEwGLw",
        "colab_type": "code",
        "outputId": "54d2aec5-ef7e-4968-b10a-6b4891e90239",
        "colab": {
          "base_uri": "https://localhost:8080/",
          "height": 285
        }
      },
      "source": [
        "nyc_gdf = gpd.GeoDataFrame(nyc, crs=crs, geometry=geometry)\n",
        "nyc_gdf.head()"
      ],
      "execution_count": 0,
      "outputs": [
        {
          "output_type": "execute_result",
          "data": {
            "text/html": [
              "<div>\n",
              "<style scoped>\n",
              "    .dataframe tbody tr th:only-of-type {\n",
              "        vertical-align: middle;\n",
              "    }\n",
              "\n",
              "    .dataframe tbody tr th {\n",
              "        vertical-align: top;\n",
              "    }\n",
              "\n",
              "    .dataframe thead th {\n",
              "        text-align: right;\n",
              "    }\n",
              "</style>\n",
              "<table border=\"1\" class=\"dataframe\">\n",
              "  <thead>\n",
              "    <tr style=\"text-align: right;\">\n",
              "      <th></th>\n",
              "      <th>UserID</th>\n",
              "      <th>VenueID</th>\n",
              "      <th>VenueCategoryID</th>\n",
              "      <th>VenueCategoryName</th>\n",
              "      <th>Latitude</th>\n",
              "      <th>Longtitude</th>\n",
              "      <th>Timezone</th>\n",
              "      <th>UTCtime</th>\n",
              "      <th>geometry</th>\n",
              "    </tr>\n",
              "  </thead>\n",
              "  <tbody>\n",
              "    <tr>\n",
              "      <th>0</th>\n",
              "      <td>470</td>\n",
              "      <td>49bbd6c0f964a520f4531fe3</td>\n",
              "      <td>4bf58dd8d48988d127951735</td>\n",
              "      <td>Arts &amp; Crafts Store</td>\n",
              "      <td>40.719810</td>\n",
              "      <td>-74.002581</td>\n",
              "      <td>-240</td>\n",
              "      <td>Tue Apr 03 18:00:09 +0000 2012</td>\n",
              "      <td>POINT (-74.00258103213994 40.71981037548853)</td>\n",
              "    </tr>\n",
              "    <tr>\n",
              "      <th>1</th>\n",
              "      <td>979</td>\n",
              "      <td>4a43c0aef964a520c6a61fe3</td>\n",
              "      <td>4bf58dd8d48988d1df941735</td>\n",
              "      <td>Bridge</td>\n",
              "      <td>40.606800</td>\n",
              "      <td>-74.044170</td>\n",
              "      <td>-240</td>\n",
              "      <td>Tue Apr 03 18:00:25 +0000 2012</td>\n",
              "      <td>POINT (-74.04416981025437 40.60679958140643)</td>\n",
              "    </tr>\n",
              "    <tr>\n",
              "      <th>2</th>\n",
              "      <td>69</td>\n",
              "      <td>4c5cc7b485a1e21e00d35711</td>\n",
              "      <td>4bf58dd8d48988d103941735</td>\n",
              "      <td>Home (private)</td>\n",
              "      <td>40.716162</td>\n",
              "      <td>-73.883070</td>\n",
              "      <td>-240</td>\n",
              "      <td>Tue Apr 03 18:02:24 +0000 2012</td>\n",
              "      <td>POINT (-73.88307005845945 40.71616168484322)</td>\n",
              "    </tr>\n",
              "    <tr>\n",
              "      <th>3</th>\n",
              "      <td>395</td>\n",
              "      <td>4bc7086715a7ef3bef9878da</td>\n",
              "      <td>4bf58dd8d48988d104941735</td>\n",
              "      <td>Medical Center</td>\n",
              "      <td>40.745164</td>\n",
              "      <td>-73.982519</td>\n",
              "      <td>-240</td>\n",
              "      <td>Tue Apr 03 18:02:41 +0000 2012</td>\n",
              "      <td>POINT (-73.982518775 40.7451638)</td>\n",
              "    </tr>\n",
              "    <tr>\n",
              "      <th>4</th>\n",
              "      <td>87</td>\n",
              "      <td>4cf2c5321d18a143951b5cec</td>\n",
              "      <td>4bf58dd8d48988d1cb941735</td>\n",
              "      <td>Food Truck</td>\n",
              "      <td>40.740104</td>\n",
              "      <td>-73.989658</td>\n",
              "      <td>-240</td>\n",
              "      <td>Tue Apr 03 18:03:00 +0000 2012</td>\n",
              "      <td>POINT (-73.98965835571289 40.74010382743943)</td>\n",
              "    </tr>\n",
              "  </tbody>\n",
              "</table>\n",
              "</div>"
            ],
            "text/plain": [
              "   UserID                   VenueID           VenueCategoryID  \\\n",
              "0     470  49bbd6c0f964a520f4531fe3  4bf58dd8d48988d127951735   \n",
              "1     979  4a43c0aef964a520c6a61fe3  4bf58dd8d48988d1df941735   \n",
              "2      69  4c5cc7b485a1e21e00d35711  4bf58dd8d48988d103941735   \n",
              "3     395  4bc7086715a7ef3bef9878da  4bf58dd8d48988d104941735   \n",
              "4      87  4cf2c5321d18a143951b5cec  4bf58dd8d48988d1cb941735   \n",
              "\n",
              "     VenueCategoryName   Latitude  Longtitude  Timezone  \\\n",
              "0  Arts & Crafts Store  40.719810  -74.002581      -240   \n",
              "1               Bridge  40.606800  -74.044170      -240   \n",
              "2       Home (private)  40.716162  -73.883070      -240   \n",
              "3       Medical Center  40.745164  -73.982519      -240   \n",
              "4           Food Truck  40.740104  -73.989658      -240   \n",
              "\n",
              "                          UTCtime  \\\n",
              "0  Tue Apr 03 18:00:09 +0000 2012   \n",
              "1  Tue Apr 03 18:00:25 +0000 2012   \n",
              "2  Tue Apr 03 18:02:24 +0000 2012   \n",
              "3  Tue Apr 03 18:02:41 +0000 2012   \n",
              "4  Tue Apr 03 18:03:00 +0000 2012   \n",
              "\n",
              "                                       geometry  \n",
              "0  POINT (-74.00258103213994 40.71981037548853)  \n",
              "1  POINT (-74.04416981025437 40.60679958140643)  \n",
              "2  POINT (-73.88307005845945 40.71616168484322)  \n",
              "3              POINT (-73.982518775 40.7451638)  \n",
              "4  POINT (-73.98965835571289 40.74010382743943)  "
            ]
          },
          "metadata": {
            "tags": []
          },
          "execution_count": 13
        }
      ]
    },
    {
      "cell_type": "markdown",
      "metadata": {
        "id": "PMj5YL8sQvO3",
        "colab_type": "text"
      },
      "source": [
        "## USER Perspective "
      ]
    },
    {
      "cell_type": "code",
      "metadata": {
        "id": "oavDt4wNQz7K",
        "colab_type": "code",
        "outputId": "416b1130-b2ec-4171-da86-bfa3a325ef35",
        "colab": {
          "base_uri": "https://localhost:8080/",
          "height": 285
        }
      },
      "source": [
        "user395 = nyc_gdf[nyc_gdf['UserID'] == 395]\n",
        "user395.head()"
      ],
      "execution_count": 0,
      "outputs": [
        {
          "output_type": "execute_result",
          "data": {
            "text/html": [
              "<div>\n",
              "<style scoped>\n",
              "    .dataframe tbody tr th:only-of-type {\n",
              "        vertical-align: middle;\n",
              "    }\n",
              "\n",
              "    .dataframe tbody tr th {\n",
              "        vertical-align: top;\n",
              "    }\n",
              "\n",
              "    .dataframe thead th {\n",
              "        text-align: right;\n",
              "    }\n",
              "</style>\n",
              "<table border=\"1\" class=\"dataframe\">\n",
              "  <thead>\n",
              "    <tr style=\"text-align: right;\">\n",
              "      <th></th>\n",
              "      <th>UserID</th>\n",
              "      <th>VenueID</th>\n",
              "      <th>VenueCategoryID</th>\n",
              "      <th>VenueCategoryName</th>\n",
              "      <th>Latitude</th>\n",
              "      <th>Longtitude</th>\n",
              "      <th>Timezone</th>\n",
              "      <th>UTCtime</th>\n",
              "      <th>geometry</th>\n",
              "    </tr>\n",
              "  </thead>\n",
              "  <tbody>\n",
              "    <tr>\n",
              "      <th>3</th>\n",
              "      <td>395</td>\n",
              "      <td>4bc7086715a7ef3bef9878da</td>\n",
              "      <td>4bf58dd8d48988d104941735</td>\n",
              "      <td>Medical Center</td>\n",
              "      <td>40.745164</td>\n",
              "      <td>-73.982519</td>\n",
              "      <td>-240</td>\n",
              "      <td>Tue Apr 03 18:02:41 +0000 2012</td>\n",
              "      <td>POINT (-73.982518775 40.7451638)</td>\n",
              "    </tr>\n",
              "    <tr>\n",
              "      <th>7820</th>\n",
              "      <td>395</td>\n",
              "      <td>4b607313f964a5209be629e3</td>\n",
              "      <td>4bf58dd8d48988d176941735</td>\n",
              "      <td>Gym / Fitness Center</td>\n",
              "      <td>40.748005</td>\n",
              "      <td>-74.008627</td>\n",
              "      <td>-240</td>\n",
              "      <td>Tue Apr 10 02:14:21 +0000 2012</td>\n",
              "      <td>POINT (-74.0086269378662 40.74800474617332)</td>\n",
              "    </tr>\n",
              "    <tr>\n",
              "      <th>15980</th>\n",
              "      <td>395</td>\n",
              "      <td>4a72e5fef964a52050db1fe3</td>\n",
              "      <td>4bf58dd8d48988d176941735</td>\n",
              "      <td>Gym / Fitness Center</td>\n",
              "      <td>40.746326</td>\n",
              "      <td>-74.008624</td>\n",
              "      <td>-240</td>\n",
              "      <td>Sat Apr 14 17:59:13 +0000 2012</td>\n",
              "      <td>POINT (-74.00862364051108 40.74632626799265)</td>\n",
              "    </tr>\n",
              "    <tr>\n",
              "      <th>17162</th>\n",
              "      <td>395</td>\n",
              "      <td>4c7447221b30a093c93fec09</td>\n",
              "      <td>4bf58dd8d48988d16d941735</td>\n",
              "      <td>Café</td>\n",
              "      <td>40.643021</td>\n",
              "      <td>-73.977502</td>\n",
              "      <td>-240</td>\n",
              "      <td>Sun Apr 15 02:09:25 +0000 2012</td>\n",
              "      <td>POINT (-73.97750188436819 40.64302075673697)</td>\n",
              "    </tr>\n",
              "    <tr>\n",
              "      <th>17866</th>\n",
              "      <td>395</td>\n",
              "      <td>4d716e7f1c01b60c219214c7</td>\n",
              "      <td>4bf58dd8d48988d10c951735</td>\n",
              "      <td>Cosmetics Shop</td>\n",
              "      <td>40.762617</td>\n",
              "      <td>-73.993360</td>\n",
              "      <td>-240</td>\n",
              "      <td>Sun Apr 15 16:12:55 +0000 2012</td>\n",
              "      <td>POINT (-73.99336 40.762617)</td>\n",
              "    </tr>\n",
              "  </tbody>\n",
              "</table>\n",
              "</div>"
            ],
            "text/plain": [
              "       UserID                   VenueID           VenueCategoryID  \\\n",
              "3         395  4bc7086715a7ef3bef9878da  4bf58dd8d48988d104941735   \n",
              "7820      395  4b607313f964a5209be629e3  4bf58dd8d48988d176941735   \n",
              "15980     395  4a72e5fef964a52050db1fe3  4bf58dd8d48988d176941735   \n",
              "17162     395  4c7447221b30a093c93fec09  4bf58dd8d48988d16d941735   \n",
              "17866     395  4d716e7f1c01b60c219214c7  4bf58dd8d48988d10c951735   \n",
              "\n",
              "          VenueCategoryName   Latitude  Longtitude  Timezone  \\\n",
              "3            Medical Center  40.745164  -73.982519      -240   \n",
              "7820   Gym / Fitness Center  40.748005  -74.008627      -240   \n",
              "15980  Gym / Fitness Center  40.746326  -74.008624      -240   \n",
              "17162                  Café  40.643021  -73.977502      -240   \n",
              "17866        Cosmetics Shop  40.762617  -73.993360      -240   \n",
              "\n",
              "                              UTCtime  \\\n",
              "3      Tue Apr 03 18:02:41 +0000 2012   \n",
              "7820   Tue Apr 10 02:14:21 +0000 2012   \n",
              "15980  Sat Apr 14 17:59:13 +0000 2012   \n",
              "17162  Sun Apr 15 02:09:25 +0000 2012   \n",
              "17866  Sun Apr 15 16:12:55 +0000 2012   \n",
              "\n",
              "                                           geometry  \n",
              "3                  POINT (-73.982518775 40.7451638)  \n",
              "7820    POINT (-74.0086269378662 40.74800474617332)  \n",
              "15980  POINT (-74.00862364051108 40.74632626799265)  \n",
              "17162  POINT (-73.97750188436819 40.64302075673697)  \n",
              "17866                   POINT (-73.99336 40.762617)  "
            ]
          },
          "metadata": {
            "tags": []
          },
          "execution_count": 14
        }
      ]
    },
    {
      "cell_type": "code",
      "metadata": {
        "id": "VuuLHpsmQ-Ef",
        "colab_type": "code",
        "outputId": "09ec6503-f9c1-4820-f110-5f23d0e854e6",
        "colab": {
          "base_uri": "https://localhost:8080/",
          "height": 35
        }
      },
      "source": [
        "user395['VenueCategoryID'].nunique()"
      ],
      "execution_count": 0,
      "outputs": [
        {
          "output_type": "execute_result",
          "data": {
            "text/plain": [
              "36"
            ]
          },
          "metadata": {
            "tags": []
          },
          "execution_count": 15
        }
      ]
    },
    {
      "cell_type": "code",
      "metadata": {
        "id": "PVu6jj3Ev0Cl",
        "colab_type": "code",
        "outputId": "477855e1-7202-42db-cd06-bfb821de1fa8",
        "colab": {
          "base_uri": "https://localhost:8080/",
          "height": 787
        }
      },
      "source": [
        "m = folium.Map (\n",
        "    location = [40.71981037548853, -74.00258103213994],\n",
        "    tiles='Stamen Toner',\n",
        "    zoom_start = 15\n",
        ")\n",
        "folium.GeoJson(user395).add_to(m)\n",
        "m"
      ],
      "execution_count": 0,
      "outputs": [
        {
          "output_type": "execute_result",
          "data": {
            "text/html": [
              "<div style=\"width:100%;\"><div style=\"position:relative;width:100%;height:0;padding-bottom:60%;\"><iframe src=\"data:text/html;charset=utf-8;base64,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\" style=\"position:absolute;width:100%;height:100%;left:0;top:0;border:none !important;\" allowfullscreen webkitallowfullscreen mozallowfullscreen></iframe></div></div>"
            ],
            "text/plain": [
              "<folium.folium.Map at 0x7f546b2570b8>"
            ]
          },
          "metadata": {
            "tags": []
          },
          "execution_count": 16
        }
      ]
    },
    {
      "cell_type": "code",
      "metadata": {
        "id": "8OJMNzFKwwy8",
        "colab_type": "code",
        "outputId": "ed9b370c-90c6-45ca-b061-08ef8262f0a0",
        "colab": {
          "base_uri": "https://localhost:8080/",
          "height": 1829
        }
      },
      "source": [
        "fig, ax = plt.subplots(figsize=(30,25))\n",
        "plot = sns.countplot(y = 'VenueCategoryName', \n",
        "                     color='grey',\n",
        "              order = user395['VenueCategoryName'].value_counts().index,\n",
        "              data=user395, ax=ax)\n",
        "\n",
        "plot.figure.savefig('user395.png')\n",
        "\n",
        "plot\n",
        "plt.tight_layout()\n",
        "plt.show()"
      ],
      "execution_count": 0,
      "outputs": [
        {
          "output_type": "display_data",
          "data": {
            "image/png": "[encoded data removed]",
            "text/plain": [
              "<Figure size 2160x1800 with 1 Axes>"
            ]
          },
          "metadata": {
            "tags": []
          }
        }
      ]
    },
    {
      "cell_type": "markdown",
      "metadata": {
        "id": "DMZ3HIiCzWot",
        "colab_type": "text"
      },
      "source": [
        "## Business Perspective"
      ]
    },
    {
      "cell_type": "code",
      "metadata": {
        "id": "0ZIeV2fp6Xc5",
        "colab_type": "code",
        "outputId": "df496f27-9425-47b0-fc00-38e03c177604",
        "colab": {
          "base_uri": "https://localhost:8080/",
          "height": 551
        }
      },
      "source": [
        "venueID = '4aca718ff964a520f6c120e3' \n",
        "gym = nyc_gdf[nyc['VenueID'] == venueID]\n",
        "gym.head()"
      ],
      "execution_count": 0,
      "outputs": [
        {
          "output_type": "execute_result",
          "data": {
            "text/html": [
              "<div>\n",
              "<style scoped>\n",
              "    .dataframe tbody tr th:only-of-type {\n",
              "        vertical-align: middle;\n",
              "    }\n",
              "\n",
              "    .dataframe tbody tr th {\n",
              "        vertical-align: top;\n",
              "    }\n",
              "\n",
              "    .dataframe thead th {\n",
              "        text-align: right;\n",
              "    }\n",
              "</style>\n",
              "<table border=\"1\" class=\"dataframe\">\n",
              "  <thead>\n",
              "    <tr style=\"text-align: right;\">\n",
              "      <th></th>\n",
              "      <th>UserID</th>\n",
              "      <th>VenueID</th>\n",
              "      <th>VenueCategoryID</th>\n",
              "      <th>VenueCategoryName</th>\n",
              "      <th>Latitude</th>\n",
              "      <th>Longtitude</th>\n",
              "      <th>Timezone</th>\n",
              "      <th>UTCtime</th>\n",
              "      <th>geometry</th>\n",
              "    </tr>\n",
              "  </thead>\n",
              "  <tbody>\n",
              "    <tr>\n",
              "      <th>6578</th>\n",
              "      <td>138</td>\n",
              "      <td>4aca718ff964a520f6c120e3</td>\n",
              "      <td>4bf58dd8d48988d175941735</td>\n",
              "      <td>Gym / Fitness Center</td>\n",
              "      <td>40.766958</td>\n",
              "      <td>-73.957775</td>\n",
              "      <td>-240</td>\n",
              "      <td>Mon Apr 09 14:51:20 +0000 2012</td>\n",
              "      <td>POINT (-73.95777486481806 40.76695833299644)</td>\n",
              "    </tr>\n",
              "    <tr>\n",
              "      <th>9661</th>\n",
              "      <td>138</td>\n",
              "      <td>4aca718ff964a520f6c120e3</td>\n",
              "      <td>4bf58dd8d48988d175941735</td>\n",
              "      <td>Gym / Fitness Center</td>\n",
              "      <td>40.766958</td>\n",
              "      <td>-73.957775</td>\n",
              "      <td>-240</td>\n",
              "      <td>Wed Apr 11 13:39:29 +0000 2012</td>\n",
              "      <td>POINT (-73.95777486481806 40.76695833299644)</td>\n",
              "    </tr>\n",
              "    <tr>\n",
              "      <th>13575</th>\n",
              "      <td>138</td>\n",
              "      <td>4aca718ff964a520f6c120e3</td>\n",
              "      <td>4bf58dd8d48988d175941735</td>\n",
              "      <td>Gym / Fitness Center</td>\n",
              "      <td>40.766958</td>\n",
              "      <td>-73.957775</td>\n",
              "      <td>-240</td>\n",
              "      <td>Fri Apr 13 13:48:19 +0000 2012</td>\n",
              "      <td>POINT (-73.95777486481806 40.76695833299644)</td>\n",
              "    </tr>\n",
              "    <tr>\n",
              "      <th>16111</th>\n",
              "      <td>138</td>\n",
              "      <td>4aca718ff964a520f6c120e3</td>\n",
              "      <td>4bf58dd8d48988d175941735</td>\n",
              "      <td>Gym / Fitness Center</td>\n",
              "      <td>40.766920</td>\n",
              "      <td>-73.957517</td>\n",
              "      <td>-240</td>\n",
              "      <td>Sat Apr 14 18:47:47 +0000 2012</td>\n",
              "      <td>POINT (-73.95751656924342 40.76691997413079)</td>\n",
              "    </tr>\n",
              "    <tr>\n",
              "      <th>19320</th>\n",
              "      <td>138</td>\n",
              "      <td>4aca718ff964a520f6c120e3</td>\n",
              "      <td>4bf58dd8d48988d175941735</td>\n",
              "      <td>Gym / Fitness Center</td>\n",
              "      <td>40.766920</td>\n",
              "      <td>-73.957517</td>\n",
              "      <td>-240</td>\n",
              "      <td>Mon Apr 16 15:30:40 +0000 2012</td>\n",
              "      <td>POINT (-73.95751656924342 40.76691997413079)</td>\n",
              "    </tr>\n",
              "  </tbody>\n",
              "</table>\n",
              "</div>"
            ],
            "text/plain": [
              "       UserID                   VenueID           VenueCategoryID  \\\n",
              "6578      138  4aca718ff964a520f6c120e3  4bf58dd8d48988d175941735   \n",
              "9661      138  4aca718ff964a520f6c120e3  4bf58dd8d48988d175941735   \n",
              "13575     138  4aca718ff964a520f6c120e3  4bf58dd8d48988d175941735   \n",
              "16111     138  4aca718ff964a520f6c120e3  4bf58dd8d48988d175941735   \n",
              "19320     138  4aca718ff964a520f6c120e3  4bf58dd8d48988d175941735   \n",
              "\n",
              "          VenueCategoryName   Latitude  Longtitude  Timezone  \\\n",
              "6578   Gym / Fitness Center  40.766958  -73.957775      -240   \n",
              "9661   Gym / Fitness Center  40.766958  -73.957775      -240   \n",
              "13575  Gym / Fitness Center  40.766958  -73.957775      -240   \n",
              "16111  Gym / Fitness Center  40.766920  -73.957517      -240   \n",
              "19320  Gym / Fitness Center  40.766920  -73.957517      -240   \n",
              "\n",
              "                              UTCtime  \\\n",
              "6578   Mon Apr 09 14:51:20 +0000 2012   \n",
              "9661   Wed Apr 11 13:39:29 +0000 2012   \n",
              "13575  Fri Apr 13 13:48:19 +0000 2012   \n",
              "16111  Sat Apr 14 18:47:47 +0000 2012   \n",
              "19320  Mon Apr 16 15:30:40 +0000 2012   \n",
              "\n",
              "                                           geometry  \n",
              "6578   POINT (-73.95777486481806 40.76695833299644)  \n",
              "9661   POINT (-73.95777486481806 40.76695833299644)  \n",
              "13575  POINT (-73.95777486481806 40.76695833299644)  \n",
              "16111  POINT (-73.95751656924342 40.76691997413079)  \n",
              "19320  POINT (-73.95751656924342 40.76691997413079)  "
            ]
          },
          "metadata": {
            "tags": []
          },
          "execution_count": 80
        }
      ]
    },
    {
      "cell_type": "code",
      "metadata": {
        "id": "dLZroQAG7P9i",
        "colab_type": "code",
        "outputId": "0e5e75f8-4474-4a50-8f9e-e60374ebbc31",
        "colab": {
          "base_uri": "https://localhost:8080/",
          "height": 34
        }
      },
      "source": [
        "gym.shape"
      ],
      "execution_count": 0,
      "outputs": [
        {
          "output_type": "execute_result",
          "data": {
            "text/plain": [
              "(118, 9)"
            ]
          },
          "metadata": {
            "tags": []
          },
          "execution_count": 81
        }
      ]
    },
    {
      "cell_type": "code",
      "metadata": {
        "id": "EQZNihOk8aIX",
        "colab_type": "code",
        "colab": {}
      },
      "source": [
        "# Create a datatime column from UTCtime\n",
        "gym['UTCtime'] = pd.to_datetime(gym['UTCtime'])"
      ],
      "execution_count": 0,
      "outputs": []
    },
    {
      "cell_type": "code",
      "metadata": {
        "id": "4JO5L0Dp8AMT",
        "colab_type": "code",
        "colab": {}
      },
      "source": [
        "gym['hours'] = gym['UTCtime'].dt.hour"
      ],
      "execution_count": 0,
      "outputs": []
    },
    {
      "cell_type": "code",
      "metadata": {
        "id": "47LJIUpQ79tZ",
        "colab_type": "code",
        "outputId": "13587ff1-9dc5-4dd9-d4a1-435333fdc2ff",
        "colab": {
          "base_uri": "https://localhost:8080/",
          "height": 384
        }
      },
      "source": [
        "gym.head()"
      ],
      "execution_count": 0,
      "outputs": [
        {
          "output_type": "execute_result",
          "data": {
            "text/html": [
              "<div>\n",
              "<style scoped>\n",
              "    .dataframe tbody tr th:only-of-type {\n",
              "        vertical-align: middle;\n",
              "    }\n",
              "\n",
              "    .dataframe tbody tr th {\n",
              "        vertical-align: top;\n",
              "    }\n",
              "\n",
              "    .dataframe thead th {\n",
              "        text-align: right;\n",
              "    }\n",
              "</style>\n",
              "<table border=\"1\" class=\"dataframe\">\n",
              "  <thead>\n",
              "    <tr style=\"text-align: right;\">\n",
              "      <th></th>\n",
              "      <th>UserID</th>\n",
              "      <th>VenueID</th>\n",
              "      <th>VenueCategoryID</th>\n",
              "      <th>VenueCategoryName</th>\n",
              "      <th>Latitude</th>\n",
              "      <th>Longtitude</th>\n",
              "      <th>Timezone</th>\n",
              "      <th>UTCtime</th>\n",
              "      <th>geometry</th>\n",
              "      <th>hours</th>\n",
              "    </tr>\n",
              "  </thead>\n",
              "  <tbody>\n",
              "    <tr>\n",
              "      <th>6578</th>\n",
              "      <td>138</td>\n",
              "      <td>4aca718ff964a520f6c120e3</td>\n",
              "      <td>4bf58dd8d48988d175941735</td>\n",
              "      <td>Gym / Fitness Center</td>\n",
              "      <td>40.766958</td>\n",
              "      <td>-73.957775</td>\n",
              "      <td>-240</td>\n",
              "      <td>2012-04-09 14:51:20</td>\n",
              "      <td>POINT (-73.95777486481806 40.76695833299644)</td>\n",
              "      <td>14</td>\n",
              "    </tr>\n",
              "    <tr>\n",
              "      <th>9661</th>\n",
              "      <td>138</td>\n",
              "      <td>4aca718ff964a520f6c120e3</td>\n",
              "      <td>4bf58dd8d48988d175941735</td>\n",
              "      <td>Gym / Fitness Center</td>\n",
              "      <td>40.766958</td>\n",
              "      <td>-73.957775</td>\n",
              "      <td>-240</td>\n",
              "      <td>2012-04-11 13:39:29</td>\n",
              "      <td>POINT (-73.95777486481806 40.76695833299644)</td>\n",
              "      <td>13</td>\n",
              "    </tr>\n",
              "    <tr>\n",
              "      <th>13575</th>\n",
              "      <td>138</td>\n",
              "      <td>4aca718ff964a520f6c120e3</td>\n",
              "      <td>4bf58dd8d48988d175941735</td>\n",
              "      <td>Gym / Fitness Center</td>\n",
              "      <td>40.766958</td>\n",
              "      <td>-73.957775</td>\n",
              "      <td>-240</td>\n",
              "      <td>2012-04-13 13:48:19</td>\n",
              "      <td>POINT (-73.95777486481806 40.76695833299644)</td>\n",
              "      <td>13</td>\n",
              "    </tr>\n",
              "    <tr>\n",
              "      <th>16111</th>\n",
              "      <td>138</td>\n",
              "      <td>4aca718ff964a520f6c120e3</td>\n",
              "      <td>4bf58dd8d48988d175941735</td>\n",
              "      <td>Gym / Fitness Center</td>\n",
              "      <td>40.766920</td>\n",
              "      <td>-73.957517</td>\n",
              "      <td>-240</td>\n",
              "      <td>2012-04-14 18:47:47</td>\n",
              "      <td>POINT (-73.95751656924342 40.76691997413079)</td>\n",
              "      <td>18</td>\n",
              "    </tr>\n",
              "    <tr>\n",
              "      <th>19320</th>\n",
              "      <td>138</td>\n",
              "      <td>4aca718ff964a520f6c120e3</td>\n",
              "      <td>4bf58dd8d48988d175941735</td>\n",
              "      <td>Gym / Fitness Center</td>\n",
              "      <td>40.766920</td>\n",
              "      <td>-73.957517</td>\n",
              "      <td>-240</td>\n",
              "      <td>2012-04-16 15:30:40</td>\n",
              "      <td>POINT (-73.95751656924342 40.76691997413079)</td>\n",
              "      <td>15</td>\n",
              "    </tr>\n",
              "  </tbody>\n",
              "</table>\n",
              "</div>"
            ],
            "text/plain": [
              "       UserID                   VenueID           VenueCategoryID  \\\n",
              "6578      138  4aca718ff964a520f6c120e3  4bf58dd8d48988d175941735   \n",
              "9661      138  4aca718ff964a520f6c120e3  4bf58dd8d48988d175941735   \n",
              "13575     138  4aca718ff964a520f6c120e3  4bf58dd8d48988d175941735   \n",
              "16111     138  4aca718ff964a520f6c120e3  4bf58dd8d48988d175941735   \n",
              "19320     138  4aca718ff964a520f6c120e3  4bf58dd8d48988d175941735   \n",
              "\n",
              "          VenueCategoryName   Latitude  Longtitude  Timezone  \\\n",
              "6578   Gym / Fitness Center  40.766958  -73.957775      -240   \n",
              "9661   Gym / Fitness Center  40.766958  -73.957775      -240   \n",
              "13575  Gym / Fitness Center  40.766958  -73.957775      -240   \n",
              "16111  Gym / Fitness Center  40.766920  -73.957517      -240   \n",
              "19320  Gym / Fitness Center  40.766920  -73.957517      -240   \n",
              "\n",
              "                  UTCtime                                      geometry  hours  \n",
              "6578  2012-04-09 14:51:20  POINT (-73.95777486481806 40.76695833299644)     14  \n",
              "9661  2012-04-11 13:39:29  POINT (-73.95777486481806 40.76695833299644)     13  \n",
              "13575 2012-04-13 13:48:19  POINT (-73.95777486481806 40.76695833299644)     13  \n",
              "16111 2012-04-14 18:47:47  POINT (-73.95751656924342 40.76691997413079)     18  \n",
              "19320 2012-04-16 15:30:40  POINT (-73.95751656924342 40.76691997413079)     15  "
            ]
          },
          "metadata": {
            "tags": []
          },
          "execution_count": 85
        }
      ]
    },
    {
      "cell_type": "code",
      "metadata": {
        "id": "ge9orucFBvKg",
        "colab_type": "code",
        "outputId": "5eeaea96-02c8-445d-8883-7b89d5e2a065",
        "colab": {
          "base_uri": "https://localhost:8080/",
          "height": 678
        }
      },
      "source": [
        "fig, ax = plt.subplots(figsize=(20,10))\n",
        "plot = sns.countplot(x = 'hours', \n",
        "              #order = gym['hours'].value_counts().index,\n",
        "              data=gym, ax=ax)\n",
        "plot.figure.savefig('gym_time.png')\n",
        "\n",
        "plot;"
      ],
      "execution_count": 0,
      "outputs": [
        {
          "output_type": "stream",
          "text": [
            "/usr/local/lib/python3.6/dist-packages/seaborn/categorical.py:1428: FutureWarning: remove_na is deprecated and is a private function. Do not use.\n",
            "  stat_data = remove_na(group_data)\n"
          ],
          "name": "stderr"
        },
        {
          "output_type": "execute_result",
          "data": {
            "text/plain": [
              "<matplotlib.axes._subplots.AxesSubplot at 0x7f952e8b1ac8>"
            ]
          },
          "metadata": {
            "tags": []
          },
          "execution_count": 92
        },
        {
          "output_type": "display_data",
          "data": {
            "image/png": "[encoded data removed]",
            "text/plain": [
              "<Figure size 1440x720 with 1 Axes>"
            ]
          },
          "metadata": {
            "tags": []
          }
        }
      ]
    },
    {
      "cell_type": "markdown",
      "metadata": {
        "id": "fUjVDTMDCAtP",
        "colab_type": "text"
      },
      "source": [
        "# END"
      ]
    }
  ]
}