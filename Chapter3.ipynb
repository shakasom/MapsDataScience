{
  "nbformat": 4,
  "nbformat_minor": 0,
  "metadata": {
    "colab": {
      "name": "Chapter3.ipynb",
      "version": "0.3.2",
      "provenance": [],
      "collapsed_sections": [
        "QN3BKyzTqLIu"
      ],
      "include_colab_link": true
    },
    "kernelspec": {
      "name": "python3",
      "display_name": "Python 3"
    }
  },
  "cells": [
    {
      "cell_type": "markdown",
      "metadata": {
        "id": "view-in-github",
        "colab_type": "text"
      },
      "source": [
        "<a href=\"https://colab.research.google.com/github/shakasom/MapsDataScience/blob/master/Chapter3.ipynb\" target=\"_parent\"><img src=\"https://colab.research.google.com/assets/colab-badge.svg\" alt=\"Open In Colab\"/></a>"
      ]
    },
    {
      "metadata": {
        "id": "8WPV_GpdqM-m",
        "colab_type": "text"
      },
      "cell_type": "markdown",
      "source": [
        "# Chapter 3: Performing Spatial operations like a Pro"
      ]
    },
    {
      "metadata": {
        "id": "QN3BKyzTqLIu",
        "colab_type": "text"
      },
      "cell_type": "markdown",
      "source": [
        "## Installations\n",
        "\n",
        "The geospatial libraries are not pre installed in google colab as standard python library, therefore we need to install some libraries to use. Luckily this is an easy process. You can use either apt install or pip install. You can also create anaconda environment, but that is a bit complex so pip and apt are enough in our case to get the libraries we need. These are the libraries we need to install in this tutorial:\n",
        "\n",
        "Gdal\n",
        "Geopandas\n",
        "Folium\n",
        "\n",
        "The installation might take 1 minute.\n"
      ]
    },
    {
      "metadata": {
        "id": "nPtDNJQuqHa5",
        "colab_type": "code",
        "colab": {}
      },
      "cell_type": "code",
      "source": [
        "%%time \n",
        "!apt update\n",
        "!apt upgrade\n",
        "# Important library for many geopython libraries\n",
        "!apt install gdal-bin python-gdal python3-gdal \n",
        "# Install rtree - Geopandas requirment\n",
        "!apt install python3-rtree \n",
        "# Install Geopandas\n",
        "!pip install git+git://github.com/geopandas/geopandas.git\n",
        "# Install descartes - Geopandas requirment\n",
        "!pip install descartes \n",
        "# Install Folium for Geographic data visualization\n",
        "!pip install folium "
      ],
      "execution_count": 0,
      "outputs": []
    },
    {
      "metadata": {
        "id": "kBw7fI9K0Sa7",
        "colab_type": "code",
        "colab": {}
      },
      "cell_type": "code",
      "source": [
        "import pandas as pd\n",
        "import numpy as np\n",
        "import geopandas as gpd\n",
        "from shapely.geometry import Point\n",
        "import matplotlib.pyplot as plt \n",
        "import folium\n",
        "import os"
      ],
      "execution_count": 0,
      "outputs": []
    },
    {
      "metadata": {
        "id": "lf_uCptEsAHa",
        "colab_type": "text"
      },
      "cell_type": "markdown",
      "source": [
        "## Data "
      ]
    },
    {
      "metadata": {
        "id": "SQ14O5ztyYRI",
        "colab_type": "code",
        "colab": {}
      },
      "cell_type": "code",
      "source": [
        "# Get the data from dropbox link\n",
        "!wget https://www.dropbox.com/s/0zytrf2ncoquxgq/Foursquare_2014_NYC.zip"
      ],
      "execution_count": 0,
      "outputs": []
    },
    {
      "metadata": {
        "id": "EdchTvAVzsJ-",
        "colab_type": "code",
        "colab": {
          "base_uri": "https://localhost:8080/",
          "height": 34
        },
        "outputId": "5c4936af-ac89-4cce-b6bd-7f10a4320617"
      },
      "cell_type": "code",
      "source": [
        "# see the folders available\n",
        "import os\n",
        "os.listdir(os.getcwd())"
      ],
      "execution_count": 13,
      "outputs": [
        {
          "output_type": "execute_result",
          "data": {
            "text/plain": [
              "['.config', 'Foursquare_2014_NYC.zip', '.ipynb_checkpoints', 'sample_data']"
            ]
          },
          "metadata": {
            "tags": []
          },
          "execution_count": 13
        }
      ]
    },
    {
      "metadata": {
        "id": "Q0kI9_ajzui3",
        "colab_type": "code",
        "colab": {
          "base_uri": "https://localhost:8080/",
          "height": 52
        },
        "outputId": "50b55cf8-3f68-464f-f16d-d87d65a84d7f"
      },
      "cell_type": "code",
      "source": [
        "# We have data zip that we have just downloaded so let us unzip it\n",
        "!unzip Foursquare_2014_NYC.zip"
      ],
      "execution_count": 14,
      "outputs": [
        {
          "output_type": "stream",
          "text": [
            "Archive:  Foursquare_2014_NYC.zip\n",
            "  inflating: dataset_TSMC2014_NYC.txt  \n"
          ],
          "name": "stdout"
        }
      ]
    },
    {
      "metadata": {
        "id": "qJucMCRS0nNW",
        "colab_type": "code",
        "colab": {
          "base_uri": "https://localhost:8080/",
          "height": 551
        },
        "outputId": "6ab59d53-53bc-4fe0-c419-38ad9d4c4f4c"
      },
      "cell_type": "code",
      "source": [
        "col_names = ['UserID', 'VenueID', 'VenueCategoryID', \n",
        "             'VenueCategoryName', 'Latitude', 'Longtitude',\n",
        "            'Timezone', 'UTCtime']\n",
        "nyc = pd.read_csv('dataset_TSMC2014_NYC.txt',names=col_names,sep=\"\\t\",  encoding = \"ISO-8859-1\" )\n",
        "nyc.head()\n"
      ],
      "execution_count": 17,
      "outputs": [
        {
          "output_type": "execute_result",
          "data": {
            "text/html": [
              "<div>\n",
              "<style scoped>\n",
              "    .dataframe tbody tr th:only-of-type {\n",
              "        vertical-align: middle;\n",
              "    }\n",
              "\n",
              "    .dataframe tbody tr th {\n",
              "        vertical-align: top;\n",
              "    }\n",
              "\n",
              "    .dataframe thead th {\n",
              "        text-align: right;\n",
              "    }\n",
              "</style>\n",
              "<table border=\"1\" class=\"dataframe\">\n",
              "  <thead>\n",
              "    <tr style=\"text-align: right;\">\n",
              "      <th></th>\n",
              "      <th>UserID</th>\n",
              "      <th>VenueID</th>\n",
              "      <th>VenueCategoryID</th>\n",
              "      <th>VenueCategoryName</th>\n",
              "      <th>Latitude</th>\n",
              "      <th>Longtitude</th>\n",
              "      <th>Timezone</th>\n",
              "      <th>UTCtime</th>\n",
              "    </tr>\n",
              "  </thead>\n",
              "  <tbody>\n",
              "    <tr>\n",
              "      <th>0</th>\n",
              "      <td>470</td>\n",
              "      <td>49bbd6c0f964a520f4531fe3</td>\n",
              "      <td>4bf58dd8d48988d127951735</td>\n",
              "      <td>Arts &amp; Crafts Store</td>\n",
              "      <td>40.719810</td>\n",
              "      <td>-74.002581</td>\n",
              "      <td>-240</td>\n",
              "      <td>Tue Apr 03 18:00:09 +0000 2012</td>\n",
              "    </tr>\n",
              "    <tr>\n",
              "      <th>1</th>\n",
              "      <td>979</td>\n",
              "      <td>4a43c0aef964a520c6a61fe3</td>\n",
              "      <td>4bf58dd8d48988d1df941735</td>\n",
              "      <td>Bridge</td>\n",
              "      <td>40.606800</td>\n",
              "      <td>-74.044170</td>\n",
              "      <td>-240</td>\n",
              "      <td>Tue Apr 03 18:00:25 +0000 2012</td>\n",
              "    </tr>\n",
              "    <tr>\n",
              "      <th>2</th>\n",
              "      <td>69</td>\n",
              "      <td>4c5cc7b485a1e21e00d35711</td>\n",
              "      <td>4bf58dd8d48988d103941735</td>\n",
              "      <td>Home (private)</td>\n",
              "      <td>40.716162</td>\n",
              "      <td>-73.883070</td>\n",
              "      <td>-240</td>\n",
              "      <td>Tue Apr 03 18:02:24 +0000 2012</td>\n",
              "    </tr>\n",
              "    <tr>\n",
              "      <th>3</th>\n",
              "      <td>395</td>\n",
              "      <td>4bc7086715a7ef3bef9878da</td>\n",
              "      <td>4bf58dd8d48988d104941735</td>\n",
              "      <td>Medical Center</td>\n",
              "      <td>40.745164</td>\n",
              "      <td>-73.982519</td>\n",
              "      <td>-240</td>\n",
              "      <td>Tue Apr 03 18:02:41 +0000 2012</td>\n",
              "    </tr>\n",
              "    <tr>\n",
              "      <th>4</th>\n",
              "      <td>87</td>\n",
              "      <td>4cf2c5321d18a143951b5cec</td>\n",
              "      <td>4bf58dd8d48988d1cb941735</td>\n",
              "      <td>Food Truck</td>\n",
              "      <td>40.740104</td>\n",
              "      <td>-73.989658</td>\n",
              "      <td>-240</td>\n",
              "      <td>Tue Apr 03 18:03:00 +0000 2012</td>\n",
              "    </tr>\n",
              "  </tbody>\n",
              "</table>\n",
              "</div>"
            ],
            "text/plain": [
              "   UserID                   VenueID           VenueCategoryID  \\\n",
              "0     470  49bbd6c0f964a520f4531fe3  4bf58dd8d48988d127951735   \n",
              "1     979  4a43c0aef964a520c6a61fe3  4bf58dd8d48988d1df941735   \n",
              "2      69  4c5cc7b485a1e21e00d35711  4bf58dd8d48988d103941735   \n",
              "3     395  4bc7086715a7ef3bef9878da  4bf58dd8d48988d104941735   \n",
              "4      87  4cf2c5321d18a143951b5cec  4bf58dd8d48988d1cb941735   \n",
              "\n",
              "     VenueCategoryName   Latitude  Longtitude  Timezone  \\\n",
              "0  Arts & Crafts Store  40.719810  -74.002581      -240   \n",
              "1               Bridge  40.606800  -74.044170      -240   \n",
              "2       Home (private)  40.716162  -73.883070      -240   \n",
              "3       Medical Center  40.745164  -73.982519      -240   \n",
              "4           Food Truck  40.740104  -73.989658      -240   \n",
              "\n",
              "                          UTCtime  \n",
              "0  Tue Apr 03 18:00:09 +0000 2012  \n",
              "1  Tue Apr 03 18:00:25 +0000 2012  \n",
              "2  Tue Apr 03 18:02:24 +0000 2012  \n",
              "3  Tue Apr 03 18:02:41 +0000 2012  \n",
              "4  Tue Apr 03 18:03:00 +0000 2012  "
            ]
          },
          "metadata": {
            "tags": []
          },
          "execution_count": 17
        }
      ]
    },
    {
      "metadata": {
        "id": "KPQFOD8v1WWZ",
        "colab_type": "text"
      },
      "cell_type": "markdown",
      "source": [
        "## Geometry and Coordinates"
      ]
    },
    {
      "metadata": {
        "id": "j0L_PLff0usm",
        "colab_type": "code",
        "colab": {
          "base_uri": "https://localhost:8080/",
          "height": 105
        },
        "outputId": "a0089081-7198-4817-83e3-16cb9de5a645"
      },
      "cell_type": "code",
      "source": [
        "for lat, lon in zip(nyc['Latitude'][:5], nyc['Longtitude'][:5]):\n",
        "    geometry = lat, lon\n",
        "    print(geometry)"
      ],
      "execution_count": 18,
      "outputs": [
        {
          "output_type": "stream",
          "text": [
            "(40.71981037548853, -74.00258103213994)\n",
            "(40.606799581406435, -74.04416981025437)\n",
            "(40.71616168484322, -73.88307005845945)\n",
            "(40.7451638, -73.982518775)\n",
            "(40.74010382743943, -73.98965835571289)\n"
          ],
          "name": "stdout"
        }
      ]
    },
    {
      "metadata": {
        "id": "Hqjui0TE1bNE",
        "colab_type": "code",
        "colab": {
          "base_uri": "https://localhost:8080/",
          "height": 105
        },
        "outputId": "0e5eccc3-5fc1-465a-fe2d-95029a0f62e0"
      },
      "cell_type": "code",
      "source": [
        "for lat, lon in zip(nyc['Latitude'][:5], nyc['Longtitude'][:5]):\n",
        "    geometry = Point(lat, lon)\n",
        "    print(geometry)"
      ],
      "execution_count": 19,
      "outputs": [
        {
          "output_type": "stream",
          "text": [
            "POINT (40.71981037548853 -74.00258103213994)\n",
            "POINT (40.60679958140643 -74.04416981025437)\n",
            "POINT (40.71616168484322 -73.88307005845945)\n",
            "POINT (40.7451638 -73.982518775)\n",
            "POINT (40.74010382743943 -73.98965835571289)\n"
          ],
          "name": "stdout"
        }
      ]
    },
    {
      "metadata": {
        "id": "rZq2ENtn1dul",
        "colab_type": "code",
        "colab": {
          "base_uri": "https://localhost:8080/",
          "height": 105
        },
        "outputId": "d4bc264f-ea57-4e20-ef88-254167f94d04"
      },
      "cell_type": "code",
      "source": [
        "geometry = [Point(xy) for xy in zip(nyc['Longtitude'], nyc['Latitude'])]\n",
        "geometry[:5]"
      ],
      "execution_count": 20,
      "outputs": [
        {
          "output_type": "execute_result",
          "data": {
            "text/plain": [
              "[<shapely.geometry.point.Point at 0x7f18c7cdfef0>,\n",
              " <shapely.geometry.point.Point at 0x7f18c7cdff28>,\n",
              " <shapely.geometry.point.Point at 0x7f18c7cdff60>,\n",
              " <shapely.geometry.point.Point at 0x7f18c7cdff98>,\n",
              " <shapely.geometry.point.Point at 0x7f18c7cdffd0>]"
            ]
          },
          "metadata": {
            "tags": []
          },
          "execution_count": 20
        }
      ]
    },
    {
      "metadata": {
        "id": "E-Gr6E6Z1hw5",
        "colab_type": "code",
        "colab": {}
      },
      "cell_type": "code",
      "source": [
        "crs = {'init': 'epsg:4326'}"
      ],
      "execution_count": 0,
      "outputs": []
    },
    {
      "metadata": {
        "id": "vNYrAIxz1jHl",
        "colab_type": "code",
        "colab": {
          "base_uri": "https://localhost:8080/",
          "height": 551
        },
        "outputId": "71689f9d-028a-4d97-adc1-d75f9de4643c"
      },
      "cell_type": "code",
      "source": [
        "nyc_gdf = gpd.GeoDataFrame(nyc, crs=crs, geometry=geometry)\n",
        "nyc_gdf.head()\n"
      ],
      "execution_count": 22,
      "outputs": [
        {
          "output_type": "execute_result",
          "data": {
            "text/html": [
              "<div>\n",
              "<style scoped>\n",
              "    .dataframe tbody tr th:only-of-type {\n",
              "        vertical-align: middle;\n",
              "    }\n",
              "\n",
              "    .dataframe tbody tr th {\n",
              "        vertical-align: top;\n",
              "    }\n",
              "\n",
              "    .dataframe thead th {\n",
              "        text-align: right;\n",
              "    }\n",
              "</style>\n",
              "<table border=\"1\" class=\"dataframe\">\n",
              "  <thead>\n",
              "    <tr style=\"text-align: right;\">\n",
              "      <th></th>\n",
              "      <th>UserID</th>\n",
              "      <th>VenueID</th>\n",
              "      <th>VenueCategoryID</th>\n",
              "      <th>VenueCategoryName</th>\n",
              "      <th>Latitude</th>\n",
              "      <th>Longtitude</th>\n",
              "      <th>Timezone</th>\n",
              "      <th>UTCtime</th>\n",
              "      <th>geometry</th>\n",
              "    </tr>\n",
              "  </thead>\n",
              "  <tbody>\n",
              "    <tr>\n",
              "      <th>0</th>\n",
              "      <td>470</td>\n",
              "      <td>49bbd6c0f964a520f4531fe3</td>\n",
              "      <td>4bf58dd8d48988d127951735</td>\n",
              "      <td>Arts &amp; Crafts Store</td>\n",
              "      <td>40.719810</td>\n",
              "      <td>-74.002581</td>\n",
              "      <td>-240</td>\n",
              "      <td>Tue Apr 03 18:00:09 +0000 2012</td>\n",
              "      <td>POINT (-74.00258103213994 40.71981037548853)</td>\n",
              "    </tr>\n",
              "    <tr>\n",
              "      <th>1</th>\n",
              "      <td>979</td>\n",
              "      <td>4a43c0aef964a520c6a61fe3</td>\n",
              "      <td>4bf58dd8d48988d1df941735</td>\n",
              "      <td>Bridge</td>\n",
              "      <td>40.606800</td>\n",
              "      <td>-74.044170</td>\n",
              "      <td>-240</td>\n",
              "      <td>Tue Apr 03 18:00:25 +0000 2012</td>\n",
              "      <td>POINT (-74.04416981025437 40.60679958140643)</td>\n",
              "    </tr>\n",
              "    <tr>\n",
              "      <th>2</th>\n",
              "      <td>69</td>\n",
              "      <td>4c5cc7b485a1e21e00d35711</td>\n",
              "      <td>4bf58dd8d48988d103941735</td>\n",
              "      <td>Home (private)</td>\n",
              "      <td>40.716162</td>\n",
              "      <td>-73.883070</td>\n",
              "      <td>-240</td>\n",
              "      <td>Tue Apr 03 18:02:24 +0000 2012</td>\n",
              "      <td>POINT (-73.88307005845945 40.71616168484322)</td>\n",
              "    </tr>\n",
              "    <tr>\n",
              "      <th>3</th>\n",
              "      <td>395</td>\n",
              "      <td>4bc7086715a7ef3bef9878da</td>\n",
              "      <td>4bf58dd8d48988d104941735</td>\n",
              "      <td>Medical Center</td>\n",
              "      <td>40.745164</td>\n",
              "      <td>-73.982519</td>\n",
              "      <td>-240</td>\n",
              "      <td>Tue Apr 03 18:02:41 +0000 2012</td>\n",
              "      <td>POINT (-73.982518775 40.7451638)</td>\n",
              "    </tr>\n",
              "    <tr>\n",
              "      <th>4</th>\n",
              "      <td>87</td>\n",
              "      <td>4cf2c5321d18a143951b5cec</td>\n",
              "      <td>4bf58dd8d48988d1cb941735</td>\n",
              "      <td>Food Truck</td>\n",
              "      <td>40.740104</td>\n",
              "      <td>-73.989658</td>\n",
              "      <td>-240</td>\n",
              "      <td>Tue Apr 03 18:03:00 +0000 2012</td>\n",
              "      <td>POINT (-73.98965835571289 40.74010382743943)</td>\n",
              "    </tr>\n",
              "  </tbody>\n",
              "</table>\n",
              "</div>"
            ],
            "text/plain": [
              "   UserID                   VenueID           VenueCategoryID  \\\n",
              "0     470  49bbd6c0f964a520f4531fe3  4bf58dd8d48988d127951735   \n",
              "1     979  4a43c0aef964a520c6a61fe3  4bf58dd8d48988d1df941735   \n",
              "2      69  4c5cc7b485a1e21e00d35711  4bf58dd8d48988d103941735   \n",
              "3     395  4bc7086715a7ef3bef9878da  4bf58dd8d48988d104941735   \n",
              "4      87  4cf2c5321d18a143951b5cec  4bf58dd8d48988d1cb941735   \n",
              "\n",
              "     VenueCategoryName   Latitude  Longtitude  Timezone  \\\n",
              "0  Arts & Crafts Store  40.719810  -74.002581      -240   \n",
              "1               Bridge  40.606800  -74.044170      -240   \n",
              "2       Home (private)  40.716162  -73.883070      -240   \n",
              "3       Medical Center  40.745164  -73.982519      -240   \n",
              "4           Food Truck  40.740104  -73.989658      -240   \n",
              "\n",
              "                          UTCtime  \\\n",
              "0  Tue Apr 03 18:00:09 +0000 2012   \n",
              "1  Tue Apr 03 18:00:25 +0000 2012   \n",
              "2  Tue Apr 03 18:02:24 +0000 2012   \n",
              "3  Tue Apr 03 18:02:41 +0000 2012   \n",
              "4  Tue Apr 03 18:03:00 +0000 2012   \n",
              "\n",
              "                                       geometry  \n",
              "0  POINT (-74.00258103213994 40.71981037548853)  \n",
              "1  POINT (-74.04416981025437 40.60679958140643)  \n",
              "2  POINT (-73.88307005845945 40.71616168484322)  \n",
              "3              POINT (-73.982518775 40.7451638)  \n",
              "4  POINT (-73.98965835571289 40.74010382743943)  "
            ]
          },
          "metadata": {
            "tags": []
          },
          "execution_count": 22
        }
      ]
    },
    {
      "metadata": {
        "id": "6BECwgrC1kf8",
        "colab_type": "code",
        "colab": {
          "base_uri": "https://localhost:8080/",
          "height": 346
        },
        "outputId": "76f98c5f-ebe5-4fa9-cc88-c00246bd7957"
      },
      "cell_type": "code",
      "source": [
        "nyc_gdf.plot();"
      ],
      "execution_count": 23,
      "outputs": [
        {
          "output_type": "display_data",
          "data": {
            "image/png": "[encoded data removed]",
            "text/plain": [
              "<Figure size 576x396 with 1 Axes>"
            ]
          },
          "metadata": {
            "tags": []
          }
        }
      ]
    },
    {
      "metadata": {
        "id": "pytauRKc1r5Y",
        "colab_type": "text"
      },
      "cell_type": "markdown",
      "source": [
        "## Buffer Analysis\n"
      ]
    },
    {
      "metadata": {
        "id": "Qzodyj971n_N",
        "colab_type": "code",
        "colab": {}
      },
      "cell_type": "code",
      "source": [
        "# Convert to UTM metre based projection: https://epsg.io/32618 \n",
        "nyc_gdf_proj = nyc_gdf.to_crs({'init': 'epsg:32618'})\n",
        "nyc_gdf_proj.head()"
      ],
      "execution_count": 0,
      "outputs": []
    },
    {
      "metadata": {
        "id": "fXGz4mHY1uWW",
        "colab_type": "code",
        "colab": {}
      },
      "cell_type": "code",
      "source": [
        "fig, ax = plt.subplots(figsize=(12, 10))\n",
        "nyc_gdf_proj[:1].buffer(50).plot(ax=ax, color='gray');\n",
        "nyc_gdf_proj[:1].buffer(10).plot(ax=ax, color='yellow');\n",
        "\n",
        "nyc_gdf_proj[:1].plot(color = 'red', ax=ax);"
      ],
      "execution_count": 0,
      "outputs": []
    },
    {
      "metadata": {
        "id": "Iro6Dqrh1z6F",
        "colab_type": "code",
        "colab": {}
      },
      "cell_type": "code",
      "source": [
        "fig, ax = plt.subplots(2,figsize=(12, 10))\n",
        "nyc_gdf_proj[nyc_gdf_proj['VenueCategoryName']== 'Subway'].buffer(1000).plot(edgecolor='black', figsize=(12, 12), alpha=0.01,ax=ax[0]);\n",
        "nyc_gdf_proj[nyc_gdf_proj['VenueCategoryName']== 'Asian Restaurant'].buffer(1000).plot(edgecolor='red', figsize=(12, 12), alpha=0.01, ax=ax[1]);\n",
        "\n"
      ],
      "execution_count": 0,
      "outputs": []
    },
    {
      "metadata": {
        "id": "cD6Sqka914Xf",
        "colab_type": "text"
      },
      "cell_type": "markdown",
      "source": [
        "## Spatial join\n"
      ]
    },
    {
      "metadata": {
        "id": "6ae2V2rv12GF",
        "colab_type": "code",
        "colab": {}
      },
      "cell_type": "code",
      "source": [
        "url_dist = 'http://services5.arcgis.com/GfwWNkhOj9bNBqoJ/arcgis/rest/services/nyad/FeatureServer/0/query?where=1=1&outFields=*&outSR=4326&f=geojson'\n",
        "nyc_dist = gpd.read_file(url_dist)\n",
        "nyc_dist.head()\n"
      ],
      "execution_count": 0,
      "outputs": []
    },
    {
      "metadata": {
        "id": "yHQFG5JW18Ud",
        "colab_type": "code",
        "colab": {}
      },
      "cell_type": "code",
      "source": [
        "nyc_dist.plot(column='AssemDist', figsize=(12,10));"
      ],
      "execution_count": 0,
      "outputs": []
    },
    {
      "metadata": {
        "id": "9pc76e6h1-kk",
        "colab_type": "code",
        "colab": {}
      },
      "cell_type": "code",
      "source": [
        "nyc_dist.crs"
      ],
      "execution_count": 0,
      "outputs": []
    },
    {
      "metadata": {
        "id": "_EDAFcmy2ADk",
        "colab_type": "code",
        "colab": {}
      },
      "cell_type": "code",
      "source": [
        "# Convert to UTM metre based projection: https://epsg.io/32618 \n",
        "nyc_dist_proj = nyc_dist.to_crs({'init': 'epsg:32618'})\n",
        "nyc_dist_proj.head()"
      ],
      "execution_count": 0,
      "outputs": []
    },
    {
      "metadata": {
        "id": "G8QxwyOX2Bnt",
        "colab_type": "code",
        "colab": {}
      },
      "cell_type": "code",
      "source": [
        "fig, ax = plt.subplots(figsize=(12,12))\n",
        "nyc_dist_proj.plot(ax=ax, color='gray');\n",
        "nyc_gdf_proj.plot(ax=ax, markersize=0.01, color='black');"
      ],
      "execution_count": 0,
      "outputs": []
    },
    {
      "metadata": {
        "id": "bkCimeEQ2DV4",
        "colab_type": "code",
        "colab": {}
      },
      "cell_type": "code",
      "source": [
        "nyc_points = gpd.sjoin(nyc_gdf_proj, nyc_dist_proj, op='within')\n",
        "nyc_points.head(2)"
      ],
      "execution_count": 0,
      "outputs": []
    },
    {
      "metadata": {
        "id": "BQiCuQh02Gdl",
        "colab_type": "code",
        "colab": {}
      },
      "cell_type": "code",
      "source": [
        "fig, ax = plt.subplots(figsize=(12,12))\n",
        "nyc_dist_proj.plot(ax=ax, color='gray');\n",
        "nyc_points.plot(ax=ax, markersize=0.01, color='black');"
      ],
      "execution_count": 0,
      "outputs": []
    },
    {
      "metadata": {
        "id": "zi3H9M3B2Ou0",
        "colab_type": "text"
      },
      "cell_type": "markdown",
      "source": [
        "## GeoVizualization\n"
      ]
    },
    {
      "metadata": {
        "id": "nEF41d_C2Lxk",
        "colab_type": "code",
        "colab": {}
      },
      "cell_type": "code",
      "source": [
        "m = folium.Map (\n",
        "    location = [40.71981037548853, -74.00258103213994],\n",
        "    #tiles='Mapbox Bright',\n",
        "    #zoom_start = 11\n",
        ")\n",
        "m\n"
      ],
      "execution_count": 0,
      "outputs": []
    },
    {
      "metadata": {
        "id": "-rhfLr5b2Q1N",
        "colab_type": "code",
        "colab": {}
      },
      "cell_type": "code",
      "source": [
        "folium.GeoJson(nyc_points.sample(1000)).add_to(m)\n",
        "m"
      ],
      "execution_count": 0,
      "outputs": []
    },
    {
      "metadata": {
        "id": "OeGgw1Li2Su3",
        "colab_type": "code",
        "colab": {}
      },
      "cell_type": "code",
      "source": [
        "from folium.plugins import FastMarkerCluster\n",
        "sample = nyc_points.sample(10000)\n",
        "lons = sample['Longtitude'] \n",
        "lats = sample['Latitude']\n",
        "m = folium.Map(\n",
        "    location = [np.mean(sample.Latitude), np.mean(sample.Longtitude)],\n",
        "    tiles= 'Stamen Toner',\n",
        "    zoom_start=13\n",
        "    )\n",
        "FastMarkerCluster(data=list(zip(lats, lons))).add_to(m)\n",
        "folium.LayerControl().add_to(m)\n",
        "m"
      ],
      "execution_count": 0,
      "outputs": []
    },
    {
      "metadata": {
        "id": "YWnt2jkk2UeV",
        "colab_type": "code",
        "colab": {}
      },
      "cell_type": "code",
      "source": [
        "lons = nyc_points['Longtitude'] \n",
        "lats = nyc_points['Latitude']\n",
        "m = folium.Map(\n",
        "    location = [np.mean(nyc_points.Latitude), np.mean(nyc_points.Longtitude)],\n",
        "    tiles= 'Stamen Toner',\n",
        "    zoom_start=12\n",
        "    )\n",
        "FastMarkerCluster(data=list(zip(lats, lons))).add_to(m)\n",
        "folium.LayerControl().add_to(m)\n",
        "m.save('cluster-full.html')"
      ],
      "execution_count": 0,
      "outputs": []
    }
  ]
}